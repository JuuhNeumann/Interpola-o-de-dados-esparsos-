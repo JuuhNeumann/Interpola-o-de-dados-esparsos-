{
  "cells": [
    {
      "cell_type": "code",
      "execution_count": null,
      "metadata": {
        "id": "d5OEeTm7CbIr"
      },
      "outputs": [],
      "source": [
        "import numpy as np\n",
        "import math\n",
        "import pandas as pd"
      ]
    },
    {
      "cell_type": "code",
      "source": [
        "from google.colab import drive\n",
        "drive.mount('/content/drive')"
      ],
      "metadata": {
        "colab": {
          "base_uri": "https://localhost:8080/"
        },
        "id": "dY4iXOPit5OT",
        "outputId": "f7c27462-7993-49eb-ee00-93a1e0c03b5a"
      },
      "execution_count": null,
      "outputs": [
        {
          "output_type": "stream",
          "name": "stdout",
          "text": [
            "Drive already mounted at /content/drive; to attempt to forcibly remount, call drive.mount(\"/content/drive\", force_remount=True).\n"
          ]
        }
      ]
    },
    {
      "cell_type": "code",
      "source": [
        "import folium"
      ],
      "metadata": {
        "id": "xEzHBJM__RQ5"
      },
      "execution_count": null,
      "outputs": []
    },
    {
      "cell_type": "markdown",
      "source": [
        "VISUALIZAÇÃO DO MAPA"
      ],
      "metadata": {
        "id": "P4VgXh1a8fj6"
      }
    },
    {
      "cell_type": "code",
      "source": [
        "mapa = folium.Map(\n",
        "    location = [-22.5046, -43.1823],\n",
        "    zoom_start=10\n",
        ")"
      ],
      "metadata": {
        "id": "DnXQMVce_Syo"
      },
      "execution_count": null,
      "outputs": []
    },
    {
      "cell_type": "code",
      "source": [
        "#ponta inferior esquerda: -22.543161606352932, -43.26639483802907\n",
        "folium.Marker(\n",
        "    location=[-22.543161606352932, -43.26639483802907],\n",
        "    popup='<i>-22.543161606352932, -43.26639483802907</i>',\n",
        "    tooltip='Clique aqui',\n",
        "    icon=folium.Icon(color='red')\n",
        ").add_to(mapa)"
      ],
      "metadata": {
        "id": "ebT733wbwZaS",
        "colab": {
          "base_uri": "https://localhost:8080/"
        },
        "outputId": "1c95b85c-4130-4e27-b198-b3f4f7522727"
      },
      "execution_count": null,
      "outputs": [
        {
          "output_type": "execute_result",
          "data": {
            "text/plain": [
              "<folium.map.Marker at 0x7f14479b82d0>"
            ]
          },
          "metadata": {},
          "execution_count": 6
        }
      ]
    },
    {
      "cell_type": "code",
      "source": [
        "#ponta superior direita: -22.468308146632634, -43.090613595700944\n",
        "folium.Marker(\n",
        "    location=[-22.468308146632634, -43.090613595700944],\n",
        "    popup='<i>-22.468308146632634, -43.090613595700944</i>',\n",
        "    tooltip='Clique aqui',\n",
        "    icon=folium.Icon(color='red')\n",
        ").add_to(mapa)"
      ],
      "metadata": {
        "id": "4XY0YdYUwZlw",
        "colab": {
          "base_uri": "https://localhost:8080/"
        },
        "outputId": "450e3a8f-9841-4a90-b4ba-09457420b8f0"
      },
      "execution_count": null,
      "outputs": [
        {
          "output_type": "execute_result",
          "data": {
            "text/plain": [
              "<folium.map.Marker at 0x7f14482ba050>"
            ]
          },
          "metadata": {},
          "execution_count": 7
        }
      ]
    },
    {
      "cell_type": "code",
      "source": [
        "#ponta superior esquerda: -22.471480725131634, -43.26708148350691\n",
        "folium.Marker(\n",
        "    location=[-22.471480725131634, -43.26708148350691],\n",
        "    popup='<i>-22.471480725131634, -43.26708148350691</i>',\n",
        "    tooltip='Clique aqui',\n",
        "    icon=folium.Icon(color='red')\n",
        ").add_to(mapa)"
      ],
      "metadata": {
        "id": "gyicZkJNwZrw",
        "colab": {
          "base_uri": "https://localhost:8080/"
        },
        "outputId": "cd29f62a-747d-4cb6-a326-bf5c80f4e874"
      },
      "execution_count": null,
      "outputs": [
        {
          "output_type": "execute_result",
          "data": {
            "text/plain": [
              "<folium.map.Marker at 0x7f14479b1b50>"
            ]
          },
          "metadata": {},
          "execution_count": 8
        }
      ]
    },
    {
      "cell_type": "code",
      "source": [
        "#ponta inferior direita: -22.54379578448828, -43.089926950223095\n",
        "folium.Marker(\n",
        "    location=[-22.54379578448828, -43.089926950223095],\n",
        "    popup='<i>-22.54379578448828, -43.089926950223095</i>',\n",
        "    tooltip='Clique aqui',\n",
        "    icon=folium.Icon(color='red')\n",
        ").add_to(mapa)"
      ],
      "metadata": {
        "id": "dx-eFpJPwZ0Q",
        "colab": {
          "base_uri": "https://localhost:8080/"
        },
        "outputId": "28dbc578-a10c-40ad-f29d-31abe1e41bef"
      },
      "execution_count": null,
      "outputs": [
        {
          "output_type": "execute_result",
          "data": {
            "text/plain": [
              "<folium.map.Marker at 0x7f1447a154d0>"
            ]
          },
          "metadata": {},
          "execution_count": 9
        }
      ]
    },
    {
      "cell_type": "code",
      "source": [
        "mapa"
      ],
      "metadata": {
        "id": "xjF0MjPIAjtZ",
        "colab": {
          "base_uri": "https://localhost:8080/",
          "height": 823
        },
        "outputId": "421ec39a-7a75-45ee-96c7-f6d04d461d37"
      },
      "execution_count": null,
      "outputs": [
        {
          "output_type": "execute_result",
          "data": {
            "text/plain": [
              "<folium.folium.Map at 0x7f1447a1f750>"
            ],
            "text/html": [
              "<div style=\"width:100%;\"><div style=\"position:relative;width:100%;height:0;padding-bottom:60%;\"><span style=\"color:#565656\">Make this Notebook Trusted to load map: File -> Trust Notebook</span><iframe srcdoc=\"&lt;!DOCTYPE html&gt;\n",
              "&lt;head&gt;    \n",
              "    &lt;meta http-equiv=&quot;content-type&quot; content=&quot;text/html; charset=UTF-8&quot; /&gt;\n",
              "    \n",
              "        &lt;script&gt;\n",
              "            L_NO_TOUCH = false;\n",
              "            L_DISABLE_3D = false;\n",
              "        &lt;/script&gt;\n",
              "    \n",
              "    &lt;style&gt;html, body {width: 100%;height: 100%;margin: 0;padding: 0;}&lt;/style&gt;\n",
              "    &lt;style&gt;#map {position:absolute;top:0;bottom:0;right:0;left:0;}&lt;/style&gt;\n",
              "    &lt;script src=&quot;https://cdn.jsdelivr.net/npm/leaflet@1.6.0/dist/leaflet.js&quot;&gt;&lt;/script&gt;\n",
              "    &lt;script src=&quot;https://code.jquery.com/jquery-1.12.4.min.js&quot;&gt;&lt;/script&gt;\n",
              "    &lt;script src=&quot;https://maxcdn.bootstrapcdn.com/bootstrap/3.2.0/js/bootstrap.min.js&quot;&gt;&lt;/script&gt;\n",
              "    &lt;script src=&quot;https://cdnjs.cloudflare.com/ajax/libs/Leaflet.awesome-markers/2.0.2/leaflet.awesome-markers.js&quot;&gt;&lt;/script&gt;\n",
              "    &lt;link rel=&quot;stylesheet&quot; href=&quot;https://cdn.jsdelivr.net/npm/leaflet@1.6.0/dist/leaflet.css&quot;/&gt;\n",
              "    &lt;link rel=&quot;stylesheet&quot; href=&quot;https://maxcdn.bootstrapcdn.com/bootstrap/3.2.0/css/bootstrap.min.css&quot;/&gt;\n",
              "    &lt;link rel=&quot;stylesheet&quot; href=&quot;https://maxcdn.bootstrapcdn.com/bootstrap/3.2.0/css/bootstrap-theme.min.css&quot;/&gt;\n",
              "    &lt;link rel=&quot;stylesheet&quot; href=&quot;https://maxcdn.bootstrapcdn.com/font-awesome/4.6.3/css/font-awesome.min.css&quot;/&gt;\n",
              "    &lt;link rel=&quot;stylesheet&quot; href=&quot;https://cdnjs.cloudflare.com/ajax/libs/Leaflet.awesome-markers/2.0.2/leaflet.awesome-markers.css&quot;/&gt;\n",
              "    &lt;link rel=&quot;stylesheet&quot; href=&quot;https://cdn.jsdelivr.net/gh/python-visualization/folium/folium/templates/leaflet.awesome.rotate.min.css&quot;/&gt;\n",
              "    \n",
              "            &lt;meta name=&quot;viewport&quot; content=&quot;width=device-width,\n",
              "                initial-scale=1.0, maximum-scale=1.0, user-scalable=no&quot; /&gt;\n",
              "            &lt;style&gt;\n",
              "                #map_1aeb037b55fb6113d46858abdab1079f {\n",
              "                    position: relative;\n",
              "                    width: 100.0%;\n",
              "                    height: 100.0%;\n",
              "                    left: 0.0%;\n",
              "                    top: 0.0%;\n",
              "                }\n",
              "            &lt;/style&gt;\n",
              "        \n",
              "&lt;/head&gt;\n",
              "&lt;body&gt;    \n",
              "    \n",
              "            &lt;div class=&quot;folium-map&quot; id=&quot;map_1aeb037b55fb6113d46858abdab1079f&quot; &gt;&lt;/div&gt;\n",
              "        \n",
              "&lt;/body&gt;\n",
              "&lt;script&gt;    \n",
              "    \n",
              "            var map_1aeb037b55fb6113d46858abdab1079f = L.map(\n",
              "                &quot;map_1aeb037b55fb6113d46858abdab1079f&quot;,\n",
              "                {\n",
              "                    center: [-22.5046, -43.1823],\n",
              "                    crs: L.CRS.EPSG3857,\n",
              "                    zoom: 10,\n",
              "                    zoomControl: true,\n",
              "                    preferCanvas: false,\n",
              "                }\n",
              "            );\n",
              "\n",
              "            \n",
              "\n",
              "        \n",
              "    \n",
              "            var tile_layer_d3bc8c3191bedafd640bb796157efcf2 = L.tileLayer(\n",
              "                &quot;https://{s}.tile.openstreetmap.org/{z}/{x}/{y}.png&quot;,\n",
              "                {&quot;attribution&quot;: &quot;Data by \\u0026copy; \\u003ca href=\\&quot;http://openstreetmap.org\\&quot;\\u003eOpenStreetMap\\u003c/a\\u003e, under \\u003ca href=\\&quot;http://www.openstreetmap.org/copyright\\&quot;\\u003eODbL\\u003c/a\\u003e.&quot;, &quot;detectRetina&quot;: false, &quot;maxNativeZoom&quot;: 18, &quot;maxZoom&quot;: 18, &quot;minZoom&quot;: 0, &quot;noWrap&quot;: false, &quot;opacity&quot;: 1, &quot;subdomains&quot;: &quot;abc&quot;, &quot;tms&quot;: false}\n",
              "            ).addTo(map_1aeb037b55fb6113d46858abdab1079f);\n",
              "        \n",
              "    \n",
              "            var marker_422fc664152eefc6f2ca4ec2fe9007c6 = L.marker(\n",
              "                [-22.543161606352932, -43.26639483802907],\n",
              "                {}\n",
              "            ).addTo(map_1aeb037b55fb6113d46858abdab1079f);\n",
              "        \n",
              "    \n",
              "            var icon_ef6a717940264d60f1568f99b8d8832f = L.AwesomeMarkers.icon(\n",
              "                {&quot;extraClasses&quot;: &quot;fa-rotate-0&quot;, &quot;icon&quot;: &quot;info-sign&quot;, &quot;iconColor&quot;: &quot;white&quot;, &quot;markerColor&quot;: &quot;red&quot;, &quot;prefix&quot;: &quot;glyphicon&quot;}\n",
              "            );\n",
              "            marker_422fc664152eefc6f2ca4ec2fe9007c6.setIcon(icon_ef6a717940264d60f1568f99b8d8832f);\n",
              "        \n",
              "    \n",
              "        var popup_7a6edb59d7732714d7dcb325e950e038 = L.popup({&quot;maxWidth&quot;: &quot;100%&quot;});\n",
              "\n",
              "        \n",
              "            var html_69fbab37930ec9c9d38d4fc32a8d696d = $(`&lt;div id=&quot;html_69fbab37930ec9c9d38d4fc32a8d696d&quot; style=&quot;width: 100.0%; height: 100.0%;&quot;&gt;&lt;i&gt;-22.543161606352932, -43.26639483802907&lt;/i&gt;&lt;/div&gt;`)[0];\n",
              "            popup_7a6edb59d7732714d7dcb325e950e038.setContent(html_69fbab37930ec9c9d38d4fc32a8d696d);\n",
              "        \n",
              "\n",
              "        marker_422fc664152eefc6f2ca4ec2fe9007c6.bindPopup(popup_7a6edb59d7732714d7dcb325e950e038)\n",
              "        ;\n",
              "\n",
              "        \n",
              "    \n",
              "    \n",
              "            marker_422fc664152eefc6f2ca4ec2fe9007c6.bindTooltip(\n",
              "                `&lt;div&gt;\n",
              "                     Clique aqui\n",
              "                 &lt;/div&gt;`,\n",
              "                {&quot;sticky&quot;: true}\n",
              "            );\n",
              "        \n",
              "    \n",
              "            var marker_bd3b41e97cc72d32e2f3ce52dd524677 = L.marker(\n",
              "                [-22.468308146632634, -43.090613595700944],\n",
              "                {}\n",
              "            ).addTo(map_1aeb037b55fb6113d46858abdab1079f);\n",
              "        \n",
              "    \n",
              "            var icon_19aa5954fc26d427600e0137f0ad7bdd = L.AwesomeMarkers.icon(\n",
              "                {&quot;extraClasses&quot;: &quot;fa-rotate-0&quot;, &quot;icon&quot;: &quot;info-sign&quot;, &quot;iconColor&quot;: &quot;white&quot;, &quot;markerColor&quot;: &quot;red&quot;, &quot;prefix&quot;: &quot;glyphicon&quot;}\n",
              "            );\n",
              "            marker_bd3b41e97cc72d32e2f3ce52dd524677.setIcon(icon_19aa5954fc26d427600e0137f0ad7bdd);\n",
              "        \n",
              "    \n",
              "        var popup_33e67266920b902b6ecda0a135104d35 = L.popup({&quot;maxWidth&quot;: &quot;100%&quot;});\n",
              "\n",
              "        \n",
              "            var html_08781b0712bdc6834ae8ebfe2d13b29a = $(`&lt;div id=&quot;html_08781b0712bdc6834ae8ebfe2d13b29a&quot; style=&quot;width: 100.0%; height: 100.0%;&quot;&gt;&lt;i&gt;-22.468308146632634, -43.090613595700944&lt;/i&gt;&lt;/div&gt;`)[0];\n",
              "            popup_33e67266920b902b6ecda0a135104d35.setContent(html_08781b0712bdc6834ae8ebfe2d13b29a);\n",
              "        \n",
              "\n",
              "        marker_bd3b41e97cc72d32e2f3ce52dd524677.bindPopup(popup_33e67266920b902b6ecda0a135104d35)\n",
              "        ;\n",
              "\n",
              "        \n",
              "    \n",
              "    \n",
              "            marker_bd3b41e97cc72d32e2f3ce52dd524677.bindTooltip(\n",
              "                `&lt;div&gt;\n",
              "                     Clique aqui\n",
              "                 &lt;/div&gt;`,\n",
              "                {&quot;sticky&quot;: true}\n",
              "            );\n",
              "        \n",
              "    \n",
              "            var marker_4d5afda532ce32a0019ab03093340484 = L.marker(\n",
              "                [-22.471480725131634, -43.26708148350691],\n",
              "                {}\n",
              "            ).addTo(map_1aeb037b55fb6113d46858abdab1079f);\n",
              "        \n",
              "    \n",
              "            var icon_ac5dfea10796ee601e9c604afec9e28a = L.AwesomeMarkers.icon(\n",
              "                {&quot;extraClasses&quot;: &quot;fa-rotate-0&quot;, &quot;icon&quot;: &quot;info-sign&quot;, &quot;iconColor&quot;: &quot;white&quot;, &quot;markerColor&quot;: &quot;red&quot;, &quot;prefix&quot;: &quot;glyphicon&quot;}\n",
              "            );\n",
              "            marker_4d5afda532ce32a0019ab03093340484.setIcon(icon_ac5dfea10796ee601e9c604afec9e28a);\n",
              "        \n",
              "    \n",
              "        var popup_246723fbcfbee3d4b6b7ea4c2d18fe27 = L.popup({&quot;maxWidth&quot;: &quot;100%&quot;});\n",
              "\n",
              "        \n",
              "            var html_6b11e55002de7772fd8e4829bf27a71f = $(`&lt;div id=&quot;html_6b11e55002de7772fd8e4829bf27a71f&quot; style=&quot;width: 100.0%; height: 100.0%;&quot;&gt;&lt;i&gt;-22.471480725131634, -43.26708148350691&lt;/i&gt;&lt;/div&gt;`)[0];\n",
              "            popup_246723fbcfbee3d4b6b7ea4c2d18fe27.setContent(html_6b11e55002de7772fd8e4829bf27a71f);\n",
              "        \n",
              "\n",
              "        marker_4d5afda532ce32a0019ab03093340484.bindPopup(popup_246723fbcfbee3d4b6b7ea4c2d18fe27)\n",
              "        ;\n",
              "\n",
              "        \n",
              "    \n",
              "    \n",
              "            marker_4d5afda532ce32a0019ab03093340484.bindTooltip(\n",
              "                `&lt;div&gt;\n",
              "                     Clique aqui\n",
              "                 &lt;/div&gt;`,\n",
              "                {&quot;sticky&quot;: true}\n",
              "            );\n",
              "        \n",
              "    \n",
              "            var marker_f140e34acc4b6b2f2a3545d54f518a4d = L.marker(\n",
              "                [-22.54379578448828, -43.089926950223095],\n",
              "                {}\n",
              "            ).addTo(map_1aeb037b55fb6113d46858abdab1079f);\n",
              "        \n",
              "    \n",
              "            var icon_50127db40749013e3842ca793552fa07 = L.AwesomeMarkers.icon(\n",
              "                {&quot;extraClasses&quot;: &quot;fa-rotate-0&quot;, &quot;icon&quot;: &quot;info-sign&quot;, &quot;iconColor&quot;: &quot;white&quot;, &quot;markerColor&quot;: &quot;red&quot;, &quot;prefix&quot;: &quot;glyphicon&quot;}\n",
              "            );\n",
              "            marker_f140e34acc4b6b2f2a3545d54f518a4d.setIcon(icon_50127db40749013e3842ca793552fa07);\n",
              "        \n",
              "    \n",
              "        var popup_a8cb1673d86cd48bcb9c3652a5b318cb = L.popup({&quot;maxWidth&quot;: &quot;100%&quot;});\n",
              "\n",
              "        \n",
              "            var html_b084a14b01eba3e0842812e62b7b0abc = $(`&lt;div id=&quot;html_b084a14b01eba3e0842812e62b7b0abc&quot; style=&quot;width: 100.0%; height: 100.0%;&quot;&gt;&lt;i&gt;-22.54379578448828, -43.089926950223095&lt;/i&gt;&lt;/div&gt;`)[0];\n",
              "            popup_a8cb1673d86cd48bcb9c3652a5b318cb.setContent(html_b084a14b01eba3e0842812e62b7b0abc);\n",
              "        \n",
              "\n",
              "        marker_f140e34acc4b6b2f2a3545d54f518a4d.bindPopup(popup_a8cb1673d86cd48bcb9c3652a5b318cb)\n",
              "        ;\n",
              "\n",
              "        \n",
              "    \n",
              "    \n",
              "            marker_f140e34acc4b6b2f2a3545d54f518a4d.bindTooltip(\n",
              "                `&lt;div&gt;\n",
              "                     Clique aqui\n",
              "                 &lt;/div&gt;`,\n",
              "                {&quot;sticky&quot;: true}\n",
              "            );\n",
              "        \n",
              "&lt;/script&gt;\" style=\"position:absolute;width:100%;height:100%;left:0;top:0;border:none !important;\" allowfullscreen webkitallowfullscreen mozallowfullscreen></iframe></div></div>"
            ]
          },
          "metadata": {},
          "execution_count": 10
        }
      ]
    },
    {
      "cell_type": "code",
      "source": [
        "#Quitandinha - 1\n",
        "folium.Marker(\n",
        "    location=[-22.524907, -43.223916],\n",
        "    popup='<i>-22.524907, -43.223916</i>',\n",
        "    tooltip='Clique aqui',\n",
        "    icon=folium.Icon(color='blue')\n",
        ").add_to(mapa)"
      ],
      "metadata": {
        "id": "w74TXg0TD1xz",
        "colab": {
          "base_uri": "https://localhost:8080/"
        },
        "outputId": "c32e2af3-9a97-41b8-cd08-ab5aa25f6c42"
      },
      "execution_count": null,
      "outputs": [
        {
          "output_type": "execute_result",
          "data": {
            "text/plain": [
              "<folium.map.Marker at 0x7f14479ebdd0>"
            ]
          },
          "metadata": {},
          "execution_count": 11
        }
      ]
    },
    {
      "cell_type": "code",
      "source": [
        "#Dr. Thouzet - 2\n",
        "folium.Marker(\n",
        "    location=[-22.528328, -43.202885],\n",
        "    popup='<i>-22.528328, -43.202885</i>',\n",
        "    tooltip='Clique aqui',\n",
        "    icon=folium.Icon(color='blue')\n",
        ").add_to(mapa)"
      ],
      "metadata": {
        "id": "sqNxnd7TEBmn",
        "colab": {
          "base_uri": "https://localhost:8080/"
        },
        "outputId": "7bc4720d-2612-402c-fed3-12202f21f5f4"
      },
      "execution_count": null,
      "outputs": [
        {
          "output_type": "execute_result",
          "data": {
            "text/plain": [
              "<folium.map.Marker at 0x7f1447930a50>"
            ]
          },
          "metadata": {},
          "execution_count": 12
        }
      ]
    },
    {
      "cell_type": "code",
      "source": [
        "#São Sebastião - 3\n",
        "folium.Marker(\n",
        "    location=[-22.528328, -43.193240],\n",
        "    popup='<i>-22.528328, -43.193240</i>',\n",
        "    tooltip='Clique aqui',\n",
        "    icon=folium.Icon(color='blue')\n",
        ").add_to(mapa)"
      ],
      "metadata": {
        "id": "Bot5z7b5Ehg0",
        "colab": {
          "base_uri": "https://localhost:8080/"
        },
        "outputId": "754ccf95-5fc3-456b-947f-b3f8ca6a0ef8"
      },
      "execution_count": null,
      "outputs": [
        {
          "output_type": "execute_result",
          "data": {
            "text/plain": [
              "<folium.map.Marker at 0x7f1447938d50>"
            ]
          },
          "metadata": {},
          "execution_count": 13
        }
      ]
    },
    {
      "cell_type": "code",
      "source": [
        "#Bingen - 5\n",
        "folium.Marker(\n",
        "    location=[-22.512210,\t-43.209475],\n",
        "    popup='<i>-22.512210,\t-43.209475</i>',\n",
        "    tooltip='Clique aqui',\n",
        "    icon=folium.Icon(color='blue')\n",
        ").add_to(mapa)"
      ],
      "metadata": {
        "id": "afiaO5ttEhsi",
        "colab": {
          "base_uri": "https://localhost:8080/"
        },
        "outputId": "74b38f7f-57e3-4e25-960d-b96032c33dd5"
      },
      "execution_count": null,
      "outputs": [
        {
          "output_type": "execute_result",
          "data": {
            "text/plain": [
              "<folium.map.Marker at 0x7f14479b1210>"
            ]
          },
          "metadata": {},
          "execution_count": 14
        }
      ]
    },
    {
      "cell_type": "code",
      "source": [
        "#Rua Araruama/Quitandinha - 14\n",
        "folium.Marker(\n",
        "    location=[-22.52, -43.22],\n",
        "    popup='<i>-22.52, -43.22</i>',\n",
        "    tooltip='Clique aqui',\n",
        "    icon=folium.Icon(color='blue')\n",
        ").add_to(mapa)"
      ],
      "metadata": {
        "id": "K9BMi6J8FuNT",
        "colab": {
          "base_uri": "https://localhost:8080/"
        },
        "outputId": "e2f062b4-f340-4ceb-d361-b3634fb47279"
      },
      "execution_count": null,
      "outputs": [
        {
          "output_type": "execute_result",
          "data": {
            "text/plain": [
              "<folium.map.Marker at 0x7f144793fcd0>"
            ]
          },
          "metadata": {},
          "execution_count": 15
        }
      ]
    },
    {
      "cell_type": "code",
      "source": [
        "#Rua Amazonas/Quitandinha - 15\n",
        "folium.Marker(\n",
        "    location=[-22.529, -43.223],\n",
        "    popup='<i>-22,529, -43,223</i>',\n",
        "    tooltip='Clique aqui',\n",
        "    icon=folium.Icon(color='blue')\n",
        ").add_to(mapa)"
      ],
      "metadata": {
        "id": "7i_gZzAEFvNM",
        "colab": {
          "base_uri": "https://localhost:8080/"
        },
        "outputId": "57f579ac-7e87-4e6c-bf28-119aeef7c232"
      },
      "execution_count": null,
      "outputs": [
        {
          "output_type": "execute_result",
          "data": {
            "text/plain": [
              "<folium.map.Marker at 0x7f1447944dd0>"
            ]
          },
          "metadata": {},
          "execution_count": 16
        }
      ]
    },
    {
      "cell_type": "code",
      "source": [
        "#Morin - 16\n",
        "folium.Marker(\n",
        "    location=[-22.527, -43.161],\n",
        "    popup='<i>-22,527, -43,161</i>',\n",
        "    tooltip='Clique aqui',\n",
        "    icon=folium.Icon(color='blue')\n",
        ").add_to(mapa)"
      ],
      "metadata": {
        "id": "B-9MACjgFwQY",
        "colab": {
          "base_uri": "https://localhost:8080/"
        },
        "outputId": "50aa8f1f-73bd-41df-c50c-b0f855cb4a52"
      },
      "execution_count": null,
      "outputs": [
        {
          "output_type": "execute_result",
          "data": {
            "text/plain": [
              "<folium.map.Marker at 0x7f1447944310>"
            ]
          },
          "metadata": {},
          "execution_count": 17
        }
      ]
    },
    {
      "cell_type": "code",
      "source": [
        "#Mosela - 20\n",
        "folium.Marker(\n",
        "    location=[-22.481, -43.219],\n",
        "    popup='<i>-22.481, -43.219</i>',\n",
        "    tooltip='Clique aqui',\n",
        "    icon=folium.Icon(color='blue')\n",
        ").add_to(mapa)"
      ],
      "metadata": {
        "id": "9HiSAumlF0iX",
        "colab": {
          "base_uri": "https://localhost:8080/"
        },
        "outputId": "846e6ba5-67d3-4f4a-b3de-352653e94329"
      },
      "execution_count": null,
      "outputs": [
        {
          "output_type": "execute_result",
          "data": {
            "text/plain": [
              "<folium.map.Marker at 0x7f1447950ed0>"
            ]
          },
          "metadata": {},
          "execution_count": 18
        }
      ]
    },
    {
      "cell_type": "code",
      "source": [
        "#primeira coordenada\n",
        "folium.Marker(\n",
        "    location=[-22.54317041, -43.26641772],\n",
        "    popup='<i>-22.54317041, -43.26641772</i>',\n",
        "    tooltip='Clique aqui',\n",
        "    icon=folium.Icon(color='green')\n",
        ").add_to(mapa)"
      ],
      "metadata": {
        "colab": {
          "base_uri": "https://localhost:8080/"
        },
        "id": "0ewUsI6EsUij",
        "outputId": "5d17014b-e70d-49ee-f35b-51ecc3cdb33f"
      },
      "execution_count": null,
      "outputs": [
        {
          "output_type": "execute_result",
          "data": {
            "text/plain": [
              "<folium.map.Marker at 0x7f1447955e90>"
            ]
          },
          "metadata": {},
          "execution_count": 19
        }
      ]
    },
    {
      "cell_type": "code",
      "source": [
        "#segunda coordenada\n",
        "folium.Marker(\n",
        "    location=[-22.54317041, -43.26705859],\n",
        "    popup='<i>-22.54317041, -43.26705859</i>',\n",
        "    tooltip='Clique aqui',\n",
        "    icon=folium.Icon(color='blue')\n",
        ").add_to(mapa)"
      ],
      "metadata": {
        "colab": {
          "base_uri": "https://localhost:8080/"
        },
        "id": "JAPCgsCdsb4A",
        "outputId": "200e782f-0303-43e5-ac38-cdec1a01c3aa"
      },
      "execution_count": null,
      "outputs": [
        {
          "output_type": "execute_result",
          "data": {
            "text/plain": [
              "<folium.map.Marker at 0x7f14479bc450>"
            ]
          },
          "metadata": {},
          "execution_count": 51
        }
      ]
    },
    {
      "cell_type": "markdown",
      "source": [
        "* Ao todo são 21 estações, porém na área delimitada só possuem 8"
      ],
      "metadata": {
        "id": "SKFnitpPz8lb"
      }
    },
    {
      "cell_type": "code",
      "source": [
        "mapa"
      ],
      "metadata": {
        "id": "bsZnwgaZIQtx",
        "colab": {
          "base_uri": "https://localhost:8080/",
          "height": 823
        },
        "outputId": "1c7d8c24-0092-41ed-fec3-86543246d35d"
      },
      "execution_count": null,
      "outputs": [
        {
          "output_type": "execute_result",
          "data": {
            "text/plain": [
              "<folium.folium.Map at 0x7f1447a1f750>"
            ],
            "text/html": [
              "<div style=\"width:100%;\"><div style=\"position:relative;width:100%;height:0;padding-bottom:60%;\"><span style=\"color:#565656\">Make this Notebook Trusted to load map: File -> Trust Notebook</span><iframe srcdoc=\"&lt;!DOCTYPE html&gt;\n",
              "&lt;head&gt;    \n",
              "    &lt;meta http-equiv=&quot;content-type&quot; content=&quot;text/html; charset=UTF-8&quot; /&gt;\n",
              "    \n",
              "        &lt;script&gt;\n",
              "            L_NO_TOUCH = false;\n",
              "            L_DISABLE_3D = false;\n",
              "        &lt;/script&gt;\n",
              "    \n",
              "    &lt;style&gt;html, body {width: 100%;height: 100%;margin: 0;padding: 0;}&lt;/style&gt;\n",
              "    &lt;style&gt;#map {position:absolute;top:0;bottom:0;right:0;left:0;}&lt;/style&gt;\n",
              "    &lt;script src=&quot;https://cdn.jsdelivr.net/npm/leaflet@1.6.0/dist/leaflet.js&quot;&gt;&lt;/script&gt;\n",
              "    &lt;script src=&quot;https://code.jquery.com/jquery-1.12.4.min.js&quot;&gt;&lt;/script&gt;\n",
              "    &lt;script src=&quot;https://maxcdn.bootstrapcdn.com/bootstrap/3.2.0/js/bootstrap.min.js&quot;&gt;&lt;/script&gt;\n",
              "    &lt;script src=&quot;https://cdnjs.cloudflare.com/ajax/libs/Leaflet.awesome-markers/2.0.2/leaflet.awesome-markers.js&quot;&gt;&lt;/script&gt;\n",
              "    &lt;link rel=&quot;stylesheet&quot; href=&quot;https://cdn.jsdelivr.net/npm/leaflet@1.6.0/dist/leaflet.css&quot;/&gt;\n",
              "    &lt;link rel=&quot;stylesheet&quot; href=&quot;https://maxcdn.bootstrapcdn.com/bootstrap/3.2.0/css/bootstrap.min.css&quot;/&gt;\n",
              "    &lt;link rel=&quot;stylesheet&quot; href=&quot;https://maxcdn.bootstrapcdn.com/bootstrap/3.2.0/css/bootstrap-theme.min.css&quot;/&gt;\n",
              "    &lt;link rel=&quot;stylesheet&quot; href=&quot;https://maxcdn.bootstrapcdn.com/font-awesome/4.6.3/css/font-awesome.min.css&quot;/&gt;\n",
              "    &lt;link rel=&quot;stylesheet&quot; href=&quot;https://cdnjs.cloudflare.com/ajax/libs/Leaflet.awesome-markers/2.0.2/leaflet.awesome-markers.css&quot;/&gt;\n",
              "    &lt;link rel=&quot;stylesheet&quot; href=&quot;https://cdn.jsdelivr.net/gh/python-visualization/folium/folium/templates/leaflet.awesome.rotate.min.css&quot;/&gt;\n",
              "    \n",
              "            &lt;meta name=&quot;viewport&quot; content=&quot;width=device-width,\n",
              "                initial-scale=1.0, maximum-scale=1.0, user-scalable=no&quot; /&gt;\n",
              "            &lt;style&gt;\n",
              "                #map_1aeb037b55fb6113d46858abdab1079f {\n",
              "                    position: relative;\n",
              "                    width: 100.0%;\n",
              "                    height: 100.0%;\n",
              "                    left: 0.0%;\n",
              "                    top: 0.0%;\n",
              "                }\n",
              "            &lt;/style&gt;\n",
              "        \n",
              "&lt;/head&gt;\n",
              "&lt;body&gt;    \n",
              "    \n",
              "            &lt;div class=&quot;folium-map&quot; id=&quot;map_1aeb037b55fb6113d46858abdab1079f&quot; &gt;&lt;/div&gt;\n",
              "        \n",
              "&lt;/body&gt;\n",
              "&lt;script&gt;    \n",
              "    \n",
              "            var map_1aeb037b55fb6113d46858abdab1079f = L.map(\n",
              "                &quot;map_1aeb037b55fb6113d46858abdab1079f&quot;,\n",
              "                {\n",
              "                    center: [-22.5046, -43.1823],\n",
              "                    crs: L.CRS.EPSG3857,\n",
              "                    zoom: 10,\n",
              "                    zoomControl: true,\n",
              "                    preferCanvas: false,\n",
              "                }\n",
              "            );\n",
              "\n",
              "            \n",
              "\n",
              "        \n",
              "    \n",
              "            var tile_layer_d3bc8c3191bedafd640bb796157efcf2 = L.tileLayer(\n",
              "                &quot;https://{s}.tile.openstreetmap.org/{z}/{x}/{y}.png&quot;,\n",
              "                {&quot;attribution&quot;: &quot;Data by \\u0026copy; \\u003ca href=\\&quot;http://openstreetmap.org\\&quot;\\u003eOpenStreetMap\\u003c/a\\u003e, under \\u003ca href=\\&quot;http://www.openstreetmap.org/copyright\\&quot;\\u003eODbL\\u003c/a\\u003e.&quot;, &quot;detectRetina&quot;: false, &quot;maxNativeZoom&quot;: 18, &quot;maxZoom&quot;: 18, &quot;minZoom&quot;: 0, &quot;noWrap&quot;: false, &quot;opacity&quot;: 1, &quot;subdomains&quot;: &quot;abc&quot;, &quot;tms&quot;: false}\n",
              "            ).addTo(map_1aeb037b55fb6113d46858abdab1079f);\n",
              "        \n",
              "    \n",
              "            var marker_422fc664152eefc6f2ca4ec2fe9007c6 = L.marker(\n",
              "                [-22.543161606352932, -43.26639483802907],\n",
              "                {}\n",
              "            ).addTo(map_1aeb037b55fb6113d46858abdab1079f);\n",
              "        \n",
              "    \n",
              "            var icon_ef6a717940264d60f1568f99b8d8832f = L.AwesomeMarkers.icon(\n",
              "                {&quot;extraClasses&quot;: &quot;fa-rotate-0&quot;, &quot;icon&quot;: &quot;info-sign&quot;, &quot;iconColor&quot;: &quot;white&quot;, &quot;markerColor&quot;: &quot;red&quot;, &quot;prefix&quot;: &quot;glyphicon&quot;}\n",
              "            );\n",
              "            marker_422fc664152eefc6f2ca4ec2fe9007c6.setIcon(icon_ef6a717940264d60f1568f99b8d8832f);\n",
              "        \n",
              "    \n",
              "        var popup_7a6edb59d7732714d7dcb325e950e038 = L.popup({&quot;maxWidth&quot;: &quot;100%&quot;});\n",
              "\n",
              "        \n",
              "            var html_69fbab37930ec9c9d38d4fc32a8d696d = $(`&lt;div id=&quot;html_69fbab37930ec9c9d38d4fc32a8d696d&quot; style=&quot;width: 100.0%; height: 100.0%;&quot;&gt;&lt;i&gt;-22.543161606352932, -43.26639483802907&lt;/i&gt;&lt;/div&gt;`)[0];\n",
              "            popup_7a6edb59d7732714d7dcb325e950e038.setContent(html_69fbab37930ec9c9d38d4fc32a8d696d);\n",
              "        \n",
              "\n",
              "        marker_422fc664152eefc6f2ca4ec2fe9007c6.bindPopup(popup_7a6edb59d7732714d7dcb325e950e038)\n",
              "        ;\n",
              "\n",
              "        \n",
              "    \n",
              "    \n",
              "            marker_422fc664152eefc6f2ca4ec2fe9007c6.bindTooltip(\n",
              "                `&lt;div&gt;\n",
              "                     Clique aqui\n",
              "                 &lt;/div&gt;`,\n",
              "                {&quot;sticky&quot;: true}\n",
              "            );\n",
              "        \n",
              "    \n",
              "            var marker_bd3b41e97cc72d32e2f3ce52dd524677 = L.marker(\n",
              "                [-22.468308146632634, -43.090613595700944],\n",
              "                {}\n",
              "            ).addTo(map_1aeb037b55fb6113d46858abdab1079f);\n",
              "        \n",
              "    \n",
              "            var icon_19aa5954fc26d427600e0137f0ad7bdd = L.AwesomeMarkers.icon(\n",
              "                {&quot;extraClasses&quot;: &quot;fa-rotate-0&quot;, &quot;icon&quot;: &quot;info-sign&quot;, &quot;iconColor&quot;: &quot;white&quot;, &quot;markerColor&quot;: &quot;red&quot;, &quot;prefix&quot;: &quot;glyphicon&quot;}\n",
              "            );\n",
              "            marker_bd3b41e97cc72d32e2f3ce52dd524677.setIcon(icon_19aa5954fc26d427600e0137f0ad7bdd);\n",
              "        \n",
              "    \n",
              "        var popup_33e67266920b902b6ecda0a135104d35 = L.popup({&quot;maxWidth&quot;: &quot;100%&quot;});\n",
              "\n",
              "        \n",
              "            var html_08781b0712bdc6834ae8ebfe2d13b29a = $(`&lt;div id=&quot;html_08781b0712bdc6834ae8ebfe2d13b29a&quot; style=&quot;width: 100.0%; height: 100.0%;&quot;&gt;&lt;i&gt;-22.468308146632634, -43.090613595700944&lt;/i&gt;&lt;/div&gt;`)[0];\n",
              "            popup_33e67266920b902b6ecda0a135104d35.setContent(html_08781b0712bdc6834ae8ebfe2d13b29a);\n",
              "        \n",
              "\n",
              "        marker_bd3b41e97cc72d32e2f3ce52dd524677.bindPopup(popup_33e67266920b902b6ecda0a135104d35)\n",
              "        ;\n",
              "\n",
              "        \n",
              "    \n",
              "    \n",
              "            marker_bd3b41e97cc72d32e2f3ce52dd524677.bindTooltip(\n",
              "                `&lt;div&gt;\n",
              "                     Clique aqui\n",
              "                 &lt;/div&gt;`,\n",
              "                {&quot;sticky&quot;: true}\n",
              "            );\n",
              "        \n",
              "    \n",
              "            var marker_4d5afda532ce32a0019ab03093340484 = L.marker(\n",
              "                [-22.471480725131634, -43.26708148350691],\n",
              "                {}\n",
              "            ).addTo(map_1aeb037b55fb6113d46858abdab1079f);\n",
              "        \n",
              "    \n",
              "            var icon_ac5dfea10796ee601e9c604afec9e28a = L.AwesomeMarkers.icon(\n",
              "                {&quot;extraClasses&quot;: &quot;fa-rotate-0&quot;, &quot;icon&quot;: &quot;info-sign&quot;, &quot;iconColor&quot;: &quot;white&quot;, &quot;markerColor&quot;: &quot;red&quot;, &quot;prefix&quot;: &quot;glyphicon&quot;}\n",
              "            );\n",
              "            marker_4d5afda532ce32a0019ab03093340484.setIcon(icon_ac5dfea10796ee601e9c604afec9e28a);\n",
              "        \n",
              "    \n",
              "        var popup_246723fbcfbee3d4b6b7ea4c2d18fe27 = L.popup({&quot;maxWidth&quot;: &quot;100%&quot;});\n",
              "\n",
              "        \n",
              "            var html_6b11e55002de7772fd8e4829bf27a71f = $(`&lt;div id=&quot;html_6b11e55002de7772fd8e4829bf27a71f&quot; style=&quot;width: 100.0%; height: 100.0%;&quot;&gt;&lt;i&gt;-22.471480725131634, -43.26708148350691&lt;/i&gt;&lt;/div&gt;`)[0];\n",
              "            popup_246723fbcfbee3d4b6b7ea4c2d18fe27.setContent(html_6b11e55002de7772fd8e4829bf27a71f);\n",
              "        \n",
              "\n",
              "        marker_4d5afda532ce32a0019ab03093340484.bindPopup(popup_246723fbcfbee3d4b6b7ea4c2d18fe27)\n",
              "        ;\n",
              "\n",
              "        \n",
              "    \n",
              "    \n",
              "            marker_4d5afda532ce32a0019ab03093340484.bindTooltip(\n",
              "                `&lt;div&gt;\n",
              "                     Clique aqui\n",
              "                 &lt;/div&gt;`,\n",
              "                {&quot;sticky&quot;: true}\n",
              "            );\n",
              "        \n",
              "    \n",
              "            var marker_f140e34acc4b6b2f2a3545d54f518a4d = L.marker(\n",
              "                [-22.54379578448828, -43.089926950223095],\n",
              "                {}\n",
              "            ).addTo(map_1aeb037b55fb6113d46858abdab1079f);\n",
              "        \n",
              "    \n",
              "            var icon_50127db40749013e3842ca793552fa07 = L.AwesomeMarkers.icon(\n",
              "                {&quot;extraClasses&quot;: &quot;fa-rotate-0&quot;, &quot;icon&quot;: &quot;info-sign&quot;, &quot;iconColor&quot;: &quot;white&quot;, &quot;markerColor&quot;: &quot;red&quot;, &quot;prefix&quot;: &quot;glyphicon&quot;}\n",
              "            );\n",
              "            marker_f140e34acc4b6b2f2a3545d54f518a4d.setIcon(icon_50127db40749013e3842ca793552fa07);\n",
              "        \n",
              "    \n",
              "        var popup_a8cb1673d86cd48bcb9c3652a5b318cb = L.popup({&quot;maxWidth&quot;: &quot;100%&quot;});\n",
              "\n",
              "        \n",
              "            var html_b084a14b01eba3e0842812e62b7b0abc = $(`&lt;div id=&quot;html_b084a14b01eba3e0842812e62b7b0abc&quot; style=&quot;width: 100.0%; height: 100.0%;&quot;&gt;&lt;i&gt;-22.54379578448828, -43.089926950223095&lt;/i&gt;&lt;/div&gt;`)[0];\n",
              "            popup_a8cb1673d86cd48bcb9c3652a5b318cb.setContent(html_b084a14b01eba3e0842812e62b7b0abc);\n",
              "        \n",
              "\n",
              "        marker_f140e34acc4b6b2f2a3545d54f518a4d.bindPopup(popup_a8cb1673d86cd48bcb9c3652a5b318cb)\n",
              "        ;\n",
              "\n",
              "        \n",
              "    \n",
              "    \n",
              "            marker_f140e34acc4b6b2f2a3545d54f518a4d.bindTooltip(\n",
              "                `&lt;div&gt;\n",
              "                     Clique aqui\n",
              "                 &lt;/div&gt;`,\n",
              "                {&quot;sticky&quot;: true}\n",
              "            );\n",
              "        \n",
              "    \n",
              "            var marker_f1fe0e9908c3d58b52b2cbe22018df61 = L.marker(\n",
              "                [-22.524907, -43.223916],\n",
              "                {}\n",
              "            ).addTo(map_1aeb037b55fb6113d46858abdab1079f);\n",
              "        \n",
              "    \n",
              "            var icon_66ee4825219b41e783371b7a352587a8 = L.AwesomeMarkers.icon(\n",
              "                {&quot;extraClasses&quot;: &quot;fa-rotate-0&quot;, &quot;icon&quot;: &quot;info-sign&quot;, &quot;iconColor&quot;: &quot;white&quot;, &quot;markerColor&quot;: &quot;blue&quot;, &quot;prefix&quot;: &quot;glyphicon&quot;}\n",
              "            );\n",
              "            marker_f1fe0e9908c3d58b52b2cbe22018df61.setIcon(icon_66ee4825219b41e783371b7a352587a8);\n",
              "        \n",
              "    \n",
              "        var popup_c26ef4e7b6c837b0f1951b6b21b1382f = L.popup({&quot;maxWidth&quot;: &quot;100%&quot;});\n",
              "\n",
              "        \n",
              "            var html_99e5dc400f1d1b19d29f8c3894967f51 = $(`&lt;div id=&quot;html_99e5dc400f1d1b19d29f8c3894967f51&quot; style=&quot;width: 100.0%; height: 100.0%;&quot;&gt;&lt;i&gt;-22.524907, -43.223916&lt;/i&gt;&lt;/div&gt;`)[0];\n",
              "            popup_c26ef4e7b6c837b0f1951b6b21b1382f.setContent(html_99e5dc400f1d1b19d29f8c3894967f51);\n",
              "        \n",
              "\n",
              "        marker_f1fe0e9908c3d58b52b2cbe22018df61.bindPopup(popup_c26ef4e7b6c837b0f1951b6b21b1382f)\n",
              "        ;\n",
              "\n",
              "        \n",
              "    \n",
              "    \n",
              "            marker_f1fe0e9908c3d58b52b2cbe22018df61.bindTooltip(\n",
              "                `&lt;div&gt;\n",
              "                     Clique aqui\n",
              "                 &lt;/div&gt;`,\n",
              "                {&quot;sticky&quot;: true}\n",
              "            );\n",
              "        \n",
              "    \n",
              "            var marker_32393c28103c7849e8137e01a48376e4 = L.marker(\n",
              "                [-22.528328, -43.202885],\n",
              "                {}\n",
              "            ).addTo(map_1aeb037b55fb6113d46858abdab1079f);\n",
              "        \n",
              "    \n",
              "            var icon_a627fc44d0c7f9c9c41a9bf66c8f9cff = L.AwesomeMarkers.icon(\n",
              "                {&quot;extraClasses&quot;: &quot;fa-rotate-0&quot;, &quot;icon&quot;: &quot;info-sign&quot;, &quot;iconColor&quot;: &quot;white&quot;, &quot;markerColor&quot;: &quot;blue&quot;, &quot;prefix&quot;: &quot;glyphicon&quot;}\n",
              "            );\n",
              "            marker_32393c28103c7849e8137e01a48376e4.setIcon(icon_a627fc44d0c7f9c9c41a9bf66c8f9cff);\n",
              "        \n",
              "    \n",
              "        var popup_6fbe3489e7f86d00e39611e5b4b97077 = L.popup({&quot;maxWidth&quot;: &quot;100%&quot;});\n",
              "\n",
              "        \n",
              "            var html_9b6fcd18f3af81842a9570f77c2b22c5 = $(`&lt;div id=&quot;html_9b6fcd18f3af81842a9570f77c2b22c5&quot; style=&quot;width: 100.0%; height: 100.0%;&quot;&gt;&lt;i&gt;-22.528328, -43.202885&lt;/i&gt;&lt;/div&gt;`)[0];\n",
              "            popup_6fbe3489e7f86d00e39611e5b4b97077.setContent(html_9b6fcd18f3af81842a9570f77c2b22c5);\n",
              "        \n",
              "\n",
              "        marker_32393c28103c7849e8137e01a48376e4.bindPopup(popup_6fbe3489e7f86d00e39611e5b4b97077)\n",
              "        ;\n",
              "\n",
              "        \n",
              "    \n",
              "    \n",
              "            marker_32393c28103c7849e8137e01a48376e4.bindTooltip(\n",
              "                `&lt;div&gt;\n",
              "                     Clique aqui\n",
              "                 &lt;/div&gt;`,\n",
              "                {&quot;sticky&quot;: true}\n",
              "            );\n",
              "        \n",
              "    \n",
              "            var marker_3c316eba537de11960c9fc8062c2c1a2 = L.marker(\n",
              "                [-22.528328, -43.19324],\n",
              "                {}\n",
              "            ).addTo(map_1aeb037b55fb6113d46858abdab1079f);\n",
              "        \n",
              "    \n",
              "            var icon_f0e40d4c3844c4ff2e5f3c6b9992d16c = L.AwesomeMarkers.icon(\n",
              "                {&quot;extraClasses&quot;: &quot;fa-rotate-0&quot;, &quot;icon&quot;: &quot;info-sign&quot;, &quot;iconColor&quot;: &quot;white&quot;, &quot;markerColor&quot;: &quot;blue&quot;, &quot;prefix&quot;: &quot;glyphicon&quot;}\n",
              "            );\n",
              "            marker_3c316eba537de11960c9fc8062c2c1a2.setIcon(icon_f0e40d4c3844c4ff2e5f3c6b9992d16c);\n",
              "        \n",
              "    \n",
              "        var popup_7f658015fe4e41b507cce727b19b273e = L.popup({&quot;maxWidth&quot;: &quot;100%&quot;});\n",
              "\n",
              "        \n",
              "            var html_f9b82959ad990883a9cc0c275993a4e4 = $(`&lt;div id=&quot;html_f9b82959ad990883a9cc0c275993a4e4&quot; style=&quot;width: 100.0%; height: 100.0%;&quot;&gt;&lt;i&gt;-22.528328, -43.193240&lt;/i&gt;&lt;/div&gt;`)[0];\n",
              "            popup_7f658015fe4e41b507cce727b19b273e.setContent(html_f9b82959ad990883a9cc0c275993a4e4);\n",
              "        \n",
              "\n",
              "        marker_3c316eba537de11960c9fc8062c2c1a2.bindPopup(popup_7f658015fe4e41b507cce727b19b273e)\n",
              "        ;\n",
              "\n",
              "        \n",
              "    \n",
              "    \n",
              "            marker_3c316eba537de11960c9fc8062c2c1a2.bindTooltip(\n",
              "                `&lt;div&gt;\n",
              "                     Clique aqui\n",
              "                 &lt;/div&gt;`,\n",
              "                {&quot;sticky&quot;: true}\n",
              "            );\n",
              "        \n",
              "    \n",
              "            var marker_afec63fade6348fe201d6b7b80c57f37 = L.marker(\n",
              "                [-22.51221, -43.209475],\n",
              "                {}\n",
              "            ).addTo(map_1aeb037b55fb6113d46858abdab1079f);\n",
              "        \n",
              "    \n",
              "            var icon_a80bb4eaf170ab6b0a2fe5aa7d4f0c4c = L.AwesomeMarkers.icon(\n",
              "                {&quot;extraClasses&quot;: &quot;fa-rotate-0&quot;, &quot;icon&quot;: &quot;info-sign&quot;, &quot;iconColor&quot;: &quot;white&quot;, &quot;markerColor&quot;: &quot;blue&quot;, &quot;prefix&quot;: &quot;glyphicon&quot;}\n",
              "            );\n",
              "            marker_afec63fade6348fe201d6b7b80c57f37.setIcon(icon_a80bb4eaf170ab6b0a2fe5aa7d4f0c4c);\n",
              "        \n",
              "    \n",
              "        var popup_8f64baf83c456457b7cb7067a8fdc508 = L.popup({&quot;maxWidth&quot;: &quot;100%&quot;});\n",
              "\n",
              "        \n",
              "            var html_7bfb20e1b9c7a0cb679df86f1ed452cd = $(`&lt;div id=&quot;html_7bfb20e1b9c7a0cb679df86f1ed452cd&quot; style=&quot;width: 100.0%; height: 100.0%;&quot;&gt;&lt;i&gt;-22.512210,\t-43.209475&lt;/i&gt;&lt;/div&gt;`)[0];\n",
              "            popup_8f64baf83c456457b7cb7067a8fdc508.setContent(html_7bfb20e1b9c7a0cb679df86f1ed452cd);\n",
              "        \n",
              "\n",
              "        marker_afec63fade6348fe201d6b7b80c57f37.bindPopup(popup_8f64baf83c456457b7cb7067a8fdc508)\n",
              "        ;\n",
              "\n",
              "        \n",
              "    \n",
              "    \n",
              "            marker_afec63fade6348fe201d6b7b80c57f37.bindTooltip(\n",
              "                `&lt;div&gt;\n",
              "                     Clique aqui\n",
              "                 &lt;/div&gt;`,\n",
              "                {&quot;sticky&quot;: true}\n",
              "            );\n",
              "        \n",
              "    \n",
              "            var marker_0ce3b95e6c63033980a832ad161de748 = L.marker(\n",
              "                [-22.52, -43.22],\n",
              "                {}\n",
              "            ).addTo(map_1aeb037b55fb6113d46858abdab1079f);\n",
              "        \n",
              "    \n",
              "            var icon_195428a6b96f4df67b33d22030b45226 = L.AwesomeMarkers.icon(\n",
              "                {&quot;extraClasses&quot;: &quot;fa-rotate-0&quot;, &quot;icon&quot;: &quot;info-sign&quot;, &quot;iconColor&quot;: &quot;white&quot;, &quot;markerColor&quot;: &quot;blue&quot;, &quot;prefix&quot;: &quot;glyphicon&quot;}\n",
              "            );\n",
              "            marker_0ce3b95e6c63033980a832ad161de748.setIcon(icon_195428a6b96f4df67b33d22030b45226);\n",
              "        \n",
              "    \n",
              "        var popup_011a5abf69c5920b33fb7f027a91931a = L.popup({&quot;maxWidth&quot;: &quot;100%&quot;});\n",
              "\n",
              "        \n",
              "            var html_6d8b1097ff26a3fa686ebc64ed763a31 = $(`&lt;div id=&quot;html_6d8b1097ff26a3fa686ebc64ed763a31&quot; style=&quot;width: 100.0%; height: 100.0%;&quot;&gt;&lt;i&gt;-22.52, -43.22&lt;/i&gt;&lt;/div&gt;`)[0];\n",
              "            popup_011a5abf69c5920b33fb7f027a91931a.setContent(html_6d8b1097ff26a3fa686ebc64ed763a31);\n",
              "        \n",
              "\n",
              "        marker_0ce3b95e6c63033980a832ad161de748.bindPopup(popup_011a5abf69c5920b33fb7f027a91931a)\n",
              "        ;\n",
              "\n",
              "        \n",
              "    \n",
              "    \n",
              "            marker_0ce3b95e6c63033980a832ad161de748.bindTooltip(\n",
              "                `&lt;div&gt;\n",
              "                     Clique aqui\n",
              "                 &lt;/div&gt;`,\n",
              "                {&quot;sticky&quot;: true}\n",
              "            );\n",
              "        \n",
              "    \n",
              "            var marker_ce16d6cee6b7826426c88d51cbf22549 = L.marker(\n",
              "                [-22.529, -43.223],\n",
              "                {}\n",
              "            ).addTo(map_1aeb037b55fb6113d46858abdab1079f);\n",
              "        \n",
              "    \n",
              "            var icon_362da79efc7815c879455f0d51fa79ba = L.AwesomeMarkers.icon(\n",
              "                {&quot;extraClasses&quot;: &quot;fa-rotate-0&quot;, &quot;icon&quot;: &quot;info-sign&quot;, &quot;iconColor&quot;: &quot;white&quot;, &quot;markerColor&quot;: &quot;blue&quot;, &quot;prefix&quot;: &quot;glyphicon&quot;}\n",
              "            );\n",
              "            marker_ce16d6cee6b7826426c88d51cbf22549.setIcon(icon_362da79efc7815c879455f0d51fa79ba);\n",
              "        \n",
              "    \n",
              "        var popup_feba23fe0e347b7ed50046cdf5b1ec2c = L.popup({&quot;maxWidth&quot;: &quot;100%&quot;});\n",
              "\n",
              "        \n",
              "            var html_4f378db453661eee56c1f709d5de1376 = $(`&lt;div id=&quot;html_4f378db453661eee56c1f709d5de1376&quot; style=&quot;width: 100.0%; height: 100.0%;&quot;&gt;&lt;i&gt;-22,529, -43,223&lt;/i&gt;&lt;/div&gt;`)[0];\n",
              "            popup_feba23fe0e347b7ed50046cdf5b1ec2c.setContent(html_4f378db453661eee56c1f709d5de1376);\n",
              "        \n",
              "\n",
              "        marker_ce16d6cee6b7826426c88d51cbf22549.bindPopup(popup_feba23fe0e347b7ed50046cdf5b1ec2c)\n",
              "        ;\n",
              "\n",
              "        \n",
              "    \n",
              "    \n",
              "            marker_ce16d6cee6b7826426c88d51cbf22549.bindTooltip(\n",
              "                `&lt;div&gt;\n",
              "                     Clique aqui\n",
              "                 &lt;/div&gt;`,\n",
              "                {&quot;sticky&quot;: true}\n",
              "            );\n",
              "        \n",
              "    \n",
              "            var marker_febfa6ad5af64a2370ab87e256cdc16b = L.marker(\n",
              "                [-22.527, -43.161],\n",
              "                {}\n",
              "            ).addTo(map_1aeb037b55fb6113d46858abdab1079f);\n",
              "        \n",
              "    \n",
              "            var icon_95b72d1d19b49f0c36134cbebdb49ef2 = L.AwesomeMarkers.icon(\n",
              "                {&quot;extraClasses&quot;: &quot;fa-rotate-0&quot;, &quot;icon&quot;: &quot;info-sign&quot;, &quot;iconColor&quot;: &quot;white&quot;, &quot;markerColor&quot;: &quot;blue&quot;, &quot;prefix&quot;: &quot;glyphicon&quot;}\n",
              "            );\n",
              "            marker_febfa6ad5af64a2370ab87e256cdc16b.setIcon(icon_95b72d1d19b49f0c36134cbebdb49ef2);\n",
              "        \n",
              "    \n",
              "        var popup_f583a4590f7ed18033760b071ca0c232 = L.popup({&quot;maxWidth&quot;: &quot;100%&quot;});\n",
              "\n",
              "        \n",
              "            var html_cce569b76608ecb57b098b1045ab32f5 = $(`&lt;div id=&quot;html_cce569b76608ecb57b098b1045ab32f5&quot; style=&quot;width: 100.0%; height: 100.0%;&quot;&gt;&lt;i&gt;-22,527, -43,161&lt;/i&gt;&lt;/div&gt;`)[0];\n",
              "            popup_f583a4590f7ed18033760b071ca0c232.setContent(html_cce569b76608ecb57b098b1045ab32f5);\n",
              "        \n",
              "\n",
              "        marker_febfa6ad5af64a2370ab87e256cdc16b.bindPopup(popup_f583a4590f7ed18033760b071ca0c232)\n",
              "        ;\n",
              "\n",
              "        \n",
              "    \n",
              "    \n",
              "            marker_febfa6ad5af64a2370ab87e256cdc16b.bindTooltip(\n",
              "                `&lt;div&gt;\n",
              "                     Clique aqui\n",
              "                 &lt;/div&gt;`,\n",
              "                {&quot;sticky&quot;: true}\n",
              "            );\n",
              "        \n",
              "    \n",
              "            var marker_abed81f6be43d3833bf4e177cce56524 = L.marker(\n",
              "                [-22.481, -43.219],\n",
              "                {}\n",
              "            ).addTo(map_1aeb037b55fb6113d46858abdab1079f);\n",
              "        \n",
              "    \n",
              "            var icon_e22dac07429542847e0ee297c936d2eb = L.AwesomeMarkers.icon(\n",
              "                {&quot;extraClasses&quot;: &quot;fa-rotate-0&quot;, &quot;icon&quot;: &quot;info-sign&quot;, &quot;iconColor&quot;: &quot;white&quot;, &quot;markerColor&quot;: &quot;blue&quot;, &quot;prefix&quot;: &quot;glyphicon&quot;}\n",
              "            );\n",
              "            marker_abed81f6be43d3833bf4e177cce56524.setIcon(icon_e22dac07429542847e0ee297c936d2eb);\n",
              "        \n",
              "    \n",
              "        var popup_d6b7b6ea9585116bb52d95fb577255d4 = L.popup({&quot;maxWidth&quot;: &quot;100%&quot;});\n",
              "\n",
              "        \n",
              "            var html_4c23f252646776ac0768782ed1322c1a = $(`&lt;div id=&quot;html_4c23f252646776ac0768782ed1322c1a&quot; style=&quot;width: 100.0%; height: 100.0%;&quot;&gt;&lt;i&gt;-22.481, -43.219&lt;/i&gt;&lt;/div&gt;`)[0];\n",
              "            popup_d6b7b6ea9585116bb52d95fb577255d4.setContent(html_4c23f252646776ac0768782ed1322c1a);\n",
              "        \n",
              "\n",
              "        marker_abed81f6be43d3833bf4e177cce56524.bindPopup(popup_d6b7b6ea9585116bb52d95fb577255d4)\n",
              "        ;\n",
              "\n",
              "        \n",
              "    \n",
              "    \n",
              "            marker_abed81f6be43d3833bf4e177cce56524.bindTooltip(\n",
              "                `&lt;div&gt;\n",
              "                     Clique aqui\n",
              "                 &lt;/div&gt;`,\n",
              "                {&quot;sticky&quot;: true}\n",
              "            );\n",
              "        \n",
              "    \n",
              "            var marker_378758bffb2f8cedc384924de30572d0 = L.marker(\n",
              "                [-22.54317041, -43.26641772],\n",
              "                {}\n",
              "            ).addTo(map_1aeb037b55fb6113d46858abdab1079f);\n",
              "        \n",
              "    \n",
              "            var icon_7f8203e70f44654b184e5caceb69c26a = L.AwesomeMarkers.icon(\n",
              "                {&quot;extraClasses&quot;: &quot;fa-rotate-0&quot;, &quot;icon&quot;: &quot;info-sign&quot;, &quot;iconColor&quot;: &quot;white&quot;, &quot;markerColor&quot;: &quot;green&quot;, &quot;prefix&quot;: &quot;glyphicon&quot;}\n",
              "            );\n",
              "            marker_378758bffb2f8cedc384924de30572d0.setIcon(icon_7f8203e70f44654b184e5caceb69c26a);\n",
              "        \n",
              "    \n",
              "        var popup_a1afdca83dd7a59cfe9a3f71201309a4 = L.popup({&quot;maxWidth&quot;: &quot;100%&quot;});\n",
              "\n",
              "        \n",
              "            var html_9da02fd95ccb8d3645e3475c05989622 = $(`&lt;div id=&quot;html_9da02fd95ccb8d3645e3475c05989622&quot; style=&quot;width: 100.0%; height: 100.0%;&quot;&gt;&lt;i&gt;-22.54317041, -43.26641772&lt;/i&gt;&lt;/div&gt;`)[0];\n",
              "            popup_a1afdca83dd7a59cfe9a3f71201309a4.setContent(html_9da02fd95ccb8d3645e3475c05989622);\n",
              "        \n",
              "\n",
              "        marker_378758bffb2f8cedc384924de30572d0.bindPopup(popup_a1afdca83dd7a59cfe9a3f71201309a4)\n",
              "        ;\n",
              "\n",
              "        \n",
              "    \n",
              "    \n",
              "            marker_378758bffb2f8cedc384924de30572d0.bindTooltip(\n",
              "                `&lt;div&gt;\n",
              "                     Clique aqui\n",
              "                 &lt;/div&gt;`,\n",
              "                {&quot;sticky&quot;: true}\n",
              "            );\n",
              "        \n",
              "    \n",
              "            var marker_78071ca97efcb0b86422aa66d9295886 = L.marker(\n",
              "                [-22.54317041, -43.26705859],\n",
              "                {}\n",
              "            ).addTo(map_1aeb037b55fb6113d46858abdab1079f);\n",
              "        \n",
              "    \n",
              "            var icon_d0732ee87f3c650e179ec3febccfa769 = L.AwesomeMarkers.icon(\n",
              "                {&quot;extraClasses&quot;: &quot;fa-rotate-0&quot;, &quot;icon&quot;: &quot;info-sign&quot;, &quot;iconColor&quot;: &quot;white&quot;, &quot;markerColor&quot;: &quot;green&quot;, &quot;prefix&quot;: &quot;glyphicon&quot;}\n",
              "            );\n",
              "            marker_78071ca97efcb0b86422aa66d9295886.setIcon(icon_d0732ee87f3c650e179ec3febccfa769);\n",
              "        \n",
              "    \n",
              "        var popup_3af996d937cd229a7f58502e9e04595e = L.popup({&quot;maxWidth&quot;: &quot;100%&quot;});\n",
              "\n",
              "        \n",
              "            var html_d3dfd2fe6f4ac8c8058ead701943c782 = $(`&lt;div id=&quot;html_d3dfd2fe6f4ac8c8058ead701943c782&quot; style=&quot;width: 100.0%; height: 100.0%;&quot;&gt;&lt;i&gt;-22.54317041, -43.26705859&lt;/i&gt;&lt;/div&gt;`)[0];\n",
              "            popup_3af996d937cd229a7f58502e9e04595e.setContent(html_d3dfd2fe6f4ac8c8058ead701943c782);\n",
              "        \n",
              "\n",
              "        marker_78071ca97efcb0b86422aa66d9295886.bindPopup(popup_3af996d937cd229a7f58502e9e04595e)\n",
              "        ;\n",
              "\n",
              "        \n",
              "    \n",
              "    \n",
              "            marker_78071ca97efcb0b86422aa66d9295886.bindTooltip(\n",
              "                `&lt;div&gt;\n",
              "                     Clique aqui\n",
              "                 &lt;/div&gt;`,\n",
              "                {&quot;sticky&quot;: true}\n",
              "            );\n",
              "        \n",
              "    \n",
              "            var marker_097e46414d49e37cc057fcad248603d1 = L.marker(\n",
              "                [-22.54317041, -43.26705859],\n",
              "                {}\n",
              "            ).addTo(map_1aeb037b55fb6113d46858abdab1079f);\n",
              "        \n",
              "    \n",
              "            var icon_3fa6fdf79a13a09504aa6288191cae70 = L.AwesomeMarkers.icon(\n",
              "                {&quot;extraClasses&quot;: &quot;fa-rotate-0&quot;, &quot;icon&quot;: &quot;info-sign&quot;, &quot;iconColor&quot;: &quot;white&quot;, &quot;markerColor&quot;: &quot;blue&quot;, &quot;prefix&quot;: &quot;glyphicon&quot;}\n",
              "            );\n",
              "            marker_097e46414d49e37cc057fcad248603d1.setIcon(icon_3fa6fdf79a13a09504aa6288191cae70);\n",
              "        \n",
              "    \n",
              "        var popup_fc2bde88ab0c9311227de6839d80d305 = L.popup({&quot;maxWidth&quot;: &quot;100%&quot;});\n",
              "\n",
              "        \n",
              "            var html_f7329bab1655c7377f88d6adaa2e56b8 = $(`&lt;div id=&quot;html_f7329bab1655c7377f88d6adaa2e56b8&quot; style=&quot;width: 100.0%; height: 100.0%;&quot;&gt;&lt;i&gt;-22.54317041, -43.26705859&lt;/i&gt;&lt;/div&gt;`)[0];\n",
              "            popup_fc2bde88ab0c9311227de6839d80d305.setContent(html_f7329bab1655c7377f88d6adaa2e56b8);\n",
              "        \n",
              "\n",
              "        marker_097e46414d49e37cc057fcad248603d1.bindPopup(popup_fc2bde88ab0c9311227de6839d80d305)\n",
              "        ;\n",
              "\n",
              "        \n",
              "    \n",
              "    \n",
              "            marker_097e46414d49e37cc057fcad248603d1.bindTooltip(\n",
              "                `&lt;div&gt;\n",
              "                     Clique aqui\n",
              "                 &lt;/div&gt;`,\n",
              "                {&quot;sticky&quot;: true}\n",
              "            );\n",
              "        \n",
              "&lt;/script&gt;\" style=\"position:absolute;width:100%;height:100%;left:0;top:0;border:none !important;\" allowfullscreen webkitallowfullscreen mozallowfullscreen></iframe></div></div>"
            ]
          },
          "metadata": {},
          "execution_count": 52
        }
      ]
    },
    {
      "cell_type": "code",
      "source": [
        "!pip install haversine\n",
        "from haversine import haversine"
      ],
      "metadata": {
        "id": "4HCHAUsiyPz9",
        "colab": {
          "base_uri": "https://localhost:8080/"
        },
        "outputId": "71b3ff68-c8e9-466b-9b6f-176ab84b33e4"
      },
      "execution_count": null,
      "outputs": [
        {
          "output_type": "stream",
          "name": "stdout",
          "text": [
            "Looking in indexes: https://pypi.org/simple, https://us-python.pkg.dev/colab-wheels/public/simple/\n",
            "Collecting haversine\n",
            "  Downloading haversine-2.6.0-py2.py3-none-any.whl (6.8 kB)\n",
            "Installing collected packages: haversine\n",
            "Successfully installed haversine-2.6.0\n"
          ]
        }
      ]
    },
    {
      "cell_type": "markdown",
      "source": [
        "* Area = (18x8)km\n",
        "* Area total = 144km"
      ],
      "metadata": {
        "id": "rzE9T0Y-ygnS"
      }
    },
    {
      "cell_type": "code",
      "source": [
        "esq_sup = (-22.471480725131634, -43.26708148350691)\n",
        "esq_inf = (-22.543161606352932, -43.26639483802907)\n",
        "dir_sup = (-22.468308146632634, -43.090613595700944)\n",
        "dir_inf = (-22.54379578448828, -43.089926950223095)"
      ],
      "metadata": {
        "id": "yHB8VmWtKVxk"
      },
      "execution_count": null,
      "outputs": []
    },
    {
      "cell_type": "code",
      "source": [
        "#BASE\n",
        "b = haversine(esq_inf, dir_inf)\n",
        "b"
      ],
      "metadata": {
        "id": "6GQy23OqNJSf",
        "colab": {
          "base_uri": "https://localhost:8080/"
        },
        "outputId": "4cec0e83-3d0b-47c7-fc0a-ceacd4629d0c"
      },
      "execution_count": null,
      "outputs": [
        {
          "output_type": "execute_result",
          "data": {
            "text/plain": [
              "18.123130282684006"
            ]
          },
          "metadata": {},
          "execution_count": 24
        }
      ]
    },
    {
      "cell_type": "code",
      "source": [
        "#ALTURA\n",
        "h = haversine(esq_inf, esq_sup)\n",
        "h"
      ],
      "metadata": {
        "id": "5ebgNH5L_HVn",
        "colab": {
          "base_uri": "https://localhost:8080/"
        },
        "outputId": "0120b38b-7344-4a7e-eceb-ebc1fbd282f7"
      },
      "execution_count": null,
      "outputs": [
        {
          "output_type": "execute_result",
          "data": {
            "text/plain": [
              "7.970873438413739"
            ]
          },
          "metadata": {},
          "execution_count": 25
        }
      ]
    },
    {
      "cell_type": "markdown",
      "source": [
        "Foi definido percorrer 500m em 500m"
      ],
      "metadata": {
        "id": "opfS1ax6yxIR"
      }
    },
    {
      "cell_type": "code",
      "source": [
        "bloco_base = 0.500\n",
        "b /= bloco_base\n",
        "B = int(b)\n",
        "B"
      ],
      "metadata": {
        "id": "eIaRV4V7-4zk",
        "colab": {
          "base_uri": "https://localhost:8080/"
        },
        "outputId": "674fd7b4-1326-4a33-fc4f-03a8d41b2be1"
      },
      "execution_count": null,
      "outputs": [
        {
          "output_type": "execute_result",
          "data": {
            "text/plain": [
              "36"
            ]
          },
          "metadata": {},
          "execution_count": 26
        }
      ]
    },
    {
      "cell_type": "code",
      "source": [
        "bloco_altura = 0.500\n",
        "h /= bloco_altura\n",
        "H = int(h)\n",
        "H"
      ],
      "metadata": {
        "id": "J8fz59bYMF34",
        "colab": {
          "base_uri": "https://localhost:8080/"
        },
        "outputId": "ea3a3e98-127f-4f39-a457-ed7a2e7d4ea6"
      },
      "execution_count": null,
      "outputs": [
        {
          "output_type": "execute_result",
          "data": {
            "text/plain": [
              "15"
            ]
          },
          "metadata": {},
          "execution_count": 27
        }
      ]
    },
    {
      "cell_type": "code",
      "source": [
        "#VALOR DO GRID\n",
        "val_grid = ('36x15')"
      ],
      "metadata": {
        "id": "vJ0PGy8_NIoc"
      },
      "execution_count": null,
      "outputs": []
    },
    {
      "cell_type": "code",
      "source": [
        "x = bloco_base/2\n",
        "x"
      ],
      "metadata": {
        "id": "DNssG_KjOM1H",
        "colab": {
          "base_uri": "https://localhost:8080/"
        },
        "outputId": "87237354-c6dd-401d-8069-09f7aa77f362"
      },
      "execution_count": null,
      "outputs": [
        {
          "output_type": "execute_result",
          "data": {
            "text/plain": [
              "0.25"
            ]
          },
          "metadata": {},
          "execution_count": 29
        }
      ]
    },
    {
      "cell_type": "code",
      "source": [
        "y = bloco_altura/2\n",
        "y"
      ],
      "metadata": {
        "id": "xLWlJWIeOSKE",
        "colab": {
          "base_uri": "https://localhost:8080/"
        },
        "outputId": "9628c794-97ad-4a94-a772-5e1954cbb1ac"
      },
      "execution_count": null,
      "outputs": [
        {
          "output_type": "execute_result",
          "data": {
            "text/plain": [
              "0.25"
            ]
          },
          "metadata": {},
          "execution_count": 30
        }
      ]
    },
    {
      "cell_type": "code",
      "source": [
        "pontos_centroide = ('0.25km, 0.25km') #para X (cmç em 0.250km e anda de 0.500km em 0.500km), para Y (cmç em 0.250km e anda de 0.500km em 0.500km)"
      ],
      "metadata": {
        "id": "Dudx-oY4SF5n"
      },
      "execution_count": null,
      "outputs": []
    },
    {
      "cell_type": "markdown",
      "source": [
        "PRÉ - PROCESSAMENTO DOS DADOS"
      ],
      "metadata": {
        "id": "Ndotndda8R6M"
      }
    },
    {
      "cell_type": "code",
      "source": [
        "import pandas as pd"
      ],
      "metadata": {
        "id": "cMyrNOAippKg"
      },
      "execution_count": null,
      "outputs": []
    },
    {
      "cell_type": "code",
      "source": [
        "df = pd.read_csv('/content/drive/MyDrive/Colab Notebooks/15-02-2022/data.csv', sep=';', decimal=',', index_col=False)\n",
        "#df = df.rename(columns={'longitude':'DATAHORA', 'latitude':'latitude', 'nomeEstacao': 'longitude'})"
      ],
      "metadata": {
        "id": "p5ceI4E1txmh"
      },
      "execution_count": null,
      "outputs": []
    },
    {
      "cell_type": "code",
      "source": [
        "df.describe()"
      ],
      "metadata": {
        "colab": {
          "base_uri": "https://localhost:8080/",
          "height": 300
        },
        "id": "32xMJrt4pr8u",
        "outputId": "5e70e3a1-2e2b-4050-9b0b-9220d8750004"
      },
      "execution_count": null,
      "outputs": [
        {
          "output_type": "execute_result",
          "data": {
            "text/plain": [
              "           latitude     longitude   valorMedida\n",
              "count  12994.000000  12994.000000  12994.000000\n",
              "mean     -43.146612    -22.435940      0.360400\n",
              "std        0.064907      0.085396      1.326348\n",
              "min      -43.249000    -22.548000      0.000000\n",
              "25%      -43.209475    -22.524907      0.000000\n",
              "50%      -43.134000    -22.427000      0.000000\n",
              "75%      -43.095000    -22.374000      0.200000\n",
              "max      -43.046000    -22.258000     33.000000"
            ],
            "text/html": [
              "\n",
              "  <div id=\"df-46971fae-1453-425a-92c0-1564a56deec4\">\n",
              "    <div class=\"colab-df-container\">\n",
              "      <div>\n",
              "<style scoped>\n",
              "    .dataframe tbody tr th:only-of-type {\n",
              "        vertical-align: middle;\n",
              "    }\n",
              "\n",
              "    .dataframe tbody tr th {\n",
              "        vertical-align: top;\n",
              "    }\n",
              "\n",
              "    .dataframe thead th {\n",
              "        text-align: right;\n",
              "    }\n",
              "</style>\n",
              "<table border=\"1\" class=\"dataframe\">\n",
              "  <thead>\n",
              "    <tr style=\"text-align: right;\">\n",
              "      <th></th>\n",
              "      <th>latitude</th>\n",
              "      <th>longitude</th>\n",
              "      <th>valorMedida</th>\n",
              "    </tr>\n",
              "  </thead>\n",
              "  <tbody>\n",
              "    <tr>\n",
              "      <th>count</th>\n",
              "      <td>12994.000000</td>\n",
              "      <td>12994.000000</td>\n",
              "      <td>12994.000000</td>\n",
              "    </tr>\n",
              "    <tr>\n",
              "      <th>mean</th>\n",
              "      <td>-43.146612</td>\n",
              "      <td>-22.435940</td>\n",
              "      <td>0.360400</td>\n",
              "    </tr>\n",
              "    <tr>\n",
              "      <th>std</th>\n",
              "      <td>0.064907</td>\n",
              "      <td>0.085396</td>\n",
              "      <td>1.326348</td>\n",
              "    </tr>\n",
              "    <tr>\n",
              "      <th>min</th>\n",
              "      <td>-43.249000</td>\n",
              "      <td>-22.548000</td>\n",
              "      <td>0.000000</td>\n",
              "    </tr>\n",
              "    <tr>\n",
              "      <th>25%</th>\n",
              "      <td>-43.209475</td>\n",
              "      <td>-22.524907</td>\n",
              "      <td>0.000000</td>\n",
              "    </tr>\n",
              "    <tr>\n",
              "      <th>50%</th>\n",
              "      <td>-43.134000</td>\n",
              "      <td>-22.427000</td>\n",
              "      <td>0.000000</td>\n",
              "    </tr>\n",
              "    <tr>\n",
              "      <th>75%</th>\n",
              "      <td>-43.095000</td>\n",
              "      <td>-22.374000</td>\n",
              "      <td>0.200000</td>\n",
              "    </tr>\n",
              "    <tr>\n",
              "      <th>max</th>\n",
              "      <td>-43.046000</td>\n",
              "      <td>-22.258000</td>\n",
              "      <td>33.000000</td>\n",
              "    </tr>\n",
              "  </tbody>\n",
              "</table>\n",
              "</div>\n",
              "      <button class=\"colab-df-convert\" onclick=\"convertToInteractive('df-46971fae-1453-425a-92c0-1564a56deec4')\"\n",
              "              title=\"Convert this dataframe to an interactive table.\"\n",
              "              style=\"display:none;\">\n",
              "        \n",
              "  <svg xmlns=\"http://www.w3.org/2000/svg\" height=\"24px\"viewBox=\"0 0 24 24\"\n",
              "       width=\"24px\">\n",
              "    <path d=\"M0 0h24v24H0V0z\" fill=\"none\"/>\n",
              "    <path d=\"M18.56 5.44l.94 2.06.94-2.06 2.06-.94-2.06-.94-.94-2.06-.94 2.06-2.06.94zm-11 1L8.5 8.5l.94-2.06 2.06-.94-2.06-.94L8.5 2.5l-.94 2.06-2.06.94zm10 10l.94 2.06.94-2.06 2.06-.94-2.06-.94-.94-2.06-.94 2.06-2.06.94z\"/><path d=\"M17.41 7.96l-1.37-1.37c-.4-.4-.92-.59-1.43-.59-.52 0-1.04.2-1.43.59L10.3 9.45l-7.72 7.72c-.78.78-.78 2.05 0 2.83L4 21.41c.39.39.9.59 1.41.59.51 0 1.02-.2 1.41-.59l7.78-7.78 2.81-2.81c.8-.78.8-2.07 0-2.86zM5.41 20L4 18.59l7.72-7.72 1.47 1.35L5.41 20z\"/>\n",
              "  </svg>\n",
              "      </button>\n",
              "      \n",
              "  <style>\n",
              "    .colab-df-container {\n",
              "      display:flex;\n",
              "      flex-wrap:wrap;\n",
              "      gap: 12px;\n",
              "    }\n",
              "\n",
              "    .colab-df-convert {\n",
              "      background-color: #E8F0FE;\n",
              "      border: none;\n",
              "      border-radius: 50%;\n",
              "      cursor: pointer;\n",
              "      display: none;\n",
              "      fill: #1967D2;\n",
              "      height: 32px;\n",
              "      padding: 0 0 0 0;\n",
              "      width: 32px;\n",
              "    }\n",
              "\n",
              "    .colab-df-convert:hover {\n",
              "      background-color: #E2EBFA;\n",
              "      box-shadow: 0px 1px 2px rgba(60, 64, 67, 0.3), 0px 1px 3px 1px rgba(60, 64, 67, 0.15);\n",
              "      fill: #174EA6;\n",
              "    }\n",
              "\n",
              "    [theme=dark] .colab-df-convert {\n",
              "      background-color: #3B4455;\n",
              "      fill: #D2E3FC;\n",
              "    }\n",
              "\n",
              "    [theme=dark] .colab-df-convert:hover {\n",
              "      background-color: #434B5C;\n",
              "      box-shadow: 0px 1px 3px 1px rgba(0, 0, 0, 0.15);\n",
              "      filter: drop-shadow(0px 1px 2px rgba(0, 0, 0, 0.3));\n",
              "      fill: #FFFFFF;\n",
              "    }\n",
              "  </style>\n",
              "\n",
              "      <script>\n",
              "        const buttonEl =\n",
              "          document.querySelector('#df-46971fae-1453-425a-92c0-1564a56deec4 button.colab-df-convert');\n",
              "        buttonEl.style.display =\n",
              "          google.colab.kernel.accessAllowed ? 'block' : 'none';\n",
              "\n",
              "        async function convertToInteractive(key) {\n",
              "          const element = document.querySelector('#df-46971fae-1453-425a-92c0-1564a56deec4');\n",
              "          const dataTable =\n",
              "            await google.colab.kernel.invokeFunction('convertToInteractive',\n",
              "                                                     [key], {});\n",
              "          if (!dataTable) return;\n",
              "\n",
              "          const docLinkHtml = 'Like what you see? Visit the ' +\n",
              "            '<a target=\"_blank\" href=https://colab.research.google.com/notebooks/data_table.ipynb>data table notebook</a>'\n",
              "            + ' to learn more about interactive tables.';\n",
              "          element.innerHTML = '';\n",
              "          dataTable['output_type'] = 'display_data';\n",
              "          await google.colab.output.renderOutput(dataTable, element);\n",
              "          const docLink = document.createElement('div');\n",
              "          docLink.innerHTML = docLinkHtml;\n",
              "          element.appendChild(docLink);\n",
              "        }\n",
              "      </script>\n",
              "    </div>\n",
              "  </div>\n",
              "  "
            ]
          },
          "metadata": {},
          "execution_count": 34
        }
      ]
    },
    {
      "cell_type": "code",
      "source": [
        "df.head()"
      ],
      "metadata": {
        "colab": {
          "base_uri": "https://localhost:8080/",
          "height": 206
        },
        "id": "el2-x84wwe6G",
        "outputId": "2e3e471d-3bfd-46b8-c4eb-cee2e3f7a596"
      },
      "execution_count": null,
      "outputs": [
        {
          "output_type": "execute_result",
          "data": {
            "text/plain": [
              "    municipio  codEstacao  uf        nomeEstacao   latitude  longitude  \\\n",
              "0  PETRÓPOLIS  330390601G  RJ  Quitandinha - Geo -43.223916 -22.524907   \n",
              "1  PETRÓPOLIS  330390601G  RJ  Quitandinha - Geo -43.223916 -22.524907   \n",
              "2  PETRÓPOLIS  330390601G  RJ  Quitandinha - Geo -43.223916 -22.524907   \n",
              "3  PETRÓPOLIS  330390601G  RJ  Quitandinha - Geo -43.223916 -22.524907   \n",
              "4  PETRÓPOLIS  330390601G  RJ  Quitandinha - Geo -43.223916 -22.524907   \n",
              "\n",
              "                datahora  valorMedida  \n",
              "0  2022-02-01 00:10:00.0          0.0  \n",
              "1  2022-02-01 01:10:00.0          0.0  \n",
              "2  2022-02-01 02:10:00.0          0.0  \n",
              "3  2022-02-01 03:10:00.0          0.0  \n",
              "4  2022-02-01 04:10:00.0          0.0  "
            ],
            "text/html": [
              "\n",
              "  <div id=\"df-826e2782-b0fb-4d58-926d-c9edab09dcbe\">\n",
              "    <div class=\"colab-df-container\">\n",
              "      <div>\n",
              "<style scoped>\n",
              "    .dataframe tbody tr th:only-of-type {\n",
              "        vertical-align: middle;\n",
              "    }\n",
              "\n",
              "    .dataframe tbody tr th {\n",
              "        vertical-align: top;\n",
              "    }\n",
              "\n",
              "    .dataframe thead th {\n",
              "        text-align: right;\n",
              "    }\n",
              "</style>\n",
              "<table border=\"1\" class=\"dataframe\">\n",
              "  <thead>\n",
              "    <tr style=\"text-align: right;\">\n",
              "      <th></th>\n",
              "      <th>municipio</th>\n",
              "      <th>codEstacao</th>\n",
              "      <th>uf</th>\n",
              "      <th>nomeEstacao</th>\n",
              "      <th>latitude</th>\n",
              "      <th>longitude</th>\n",
              "      <th>datahora</th>\n",
              "      <th>valorMedida</th>\n",
              "    </tr>\n",
              "  </thead>\n",
              "  <tbody>\n",
              "    <tr>\n",
              "      <th>0</th>\n",
              "      <td>PETRÓPOLIS</td>\n",
              "      <td>330390601G</td>\n",
              "      <td>RJ</td>\n",
              "      <td>Quitandinha - Geo</td>\n",
              "      <td>-43.223916</td>\n",
              "      <td>-22.524907</td>\n",
              "      <td>2022-02-01 00:10:00.0</td>\n",
              "      <td>0.0</td>\n",
              "    </tr>\n",
              "    <tr>\n",
              "      <th>1</th>\n",
              "      <td>PETRÓPOLIS</td>\n",
              "      <td>330390601G</td>\n",
              "      <td>RJ</td>\n",
              "      <td>Quitandinha - Geo</td>\n",
              "      <td>-43.223916</td>\n",
              "      <td>-22.524907</td>\n",
              "      <td>2022-02-01 01:10:00.0</td>\n",
              "      <td>0.0</td>\n",
              "    </tr>\n",
              "    <tr>\n",
              "      <th>2</th>\n",
              "      <td>PETRÓPOLIS</td>\n",
              "      <td>330390601G</td>\n",
              "      <td>RJ</td>\n",
              "      <td>Quitandinha - Geo</td>\n",
              "      <td>-43.223916</td>\n",
              "      <td>-22.524907</td>\n",
              "      <td>2022-02-01 02:10:00.0</td>\n",
              "      <td>0.0</td>\n",
              "    </tr>\n",
              "    <tr>\n",
              "      <th>3</th>\n",
              "      <td>PETRÓPOLIS</td>\n",
              "      <td>330390601G</td>\n",
              "      <td>RJ</td>\n",
              "      <td>Quitandinha - Geo</td>\n",
              "      <td>-43.223916</td>\n",
              "      <td>-22.524907</td>\n",
              "      <td>2022-02-01 03:10:00.0</td>\n",
              "      <td>0.0</td>\n",
              "    </tr>\n",
              "    <tr>\n",
              "      <th>4</th>\n",
              "      <td>PETRÓPOLIS</td>\n",
              "      <td>330390601G</td>\n",
              "      <td>RJ</td>\n",
              "      <td>Quitandinha - Geo</td>\n",
              "      <td>-43.223916</td>\n",
              "      <td>-22.524907</td>\n",
              "      <td>2022-02-01 04:10:00.0</td>\n",
              "      <td>0.0</td>\n",
              "    </tr>\n",
              "  </tbody>\n",
              "</table>\n",
              "</div>\n",
              "      <button class=\"colab-df-convert\" onclick=\"convertToInteractive('df-826e2782-b0fb-4d58-926d-c9edab09dcbe')\"\n",
              "              title=\"Convert this dataframe to an interactive table.\"\n",
              "              style=\"display:none;\">\n",
              "        \n",
              "  <svg xmlns=\"http://www.w3.org/2000/svg\" height=\"24px\"viewBox=\"0 0 24 24\"\n",
              "       width=\"24px\">\n",
              "    <path d=\"M0 0h24v24H0V0z\" fill=\"none\"/>\n",
              "    <path d=\"M18.56 5.44l.94 2.06.94-2.06 2.06-.94-2.06-.94-.94-2.06-.94 2.06-2.06.94zm-11 1L8.5 8.5l.94-2.06 2.06-.94-2.06-.94L8.5 2.5l-.94 2.06-2.06.94zm10 10l.94 2.06.94-2.06 2.06-.94-2.06-.94-.94-2.06-.94 2.06-2.06.94z\"/><path d=\"M17.41 7.96l-1.37-1.37c-.4-.4-.92-.59-1.43-.59-.52 0-1.04.2-1.43.59L10.3 9.45l-7.72 7.72c-.78.78-.78 2.05 0 2.83L4 21.41c.39.39.9.59 1.41.59.51 0 1.02-.2 1.41-.59l7.78-7.78 2.81-2.81c.8-.78.8-2.07 0-2.86zM5.41 20L4 18.59l7.72-7.72 1.47 1.35L5.41 20z\"/>\n",
              "  </svg>\n",
              "      </button>\n",
              "      \n",
              "  <style>\n",
              "    .colab-df-container {\n",
              "      display:flex;\n",
              "      flex-wrap:wrap;\n",
              "      gap: 12px;\n",
              "    }\n",
              "\n",
              "    .colab-df-convert {\n",
              "      background-color: #E8F0FE;\n",
              "      border: none;\n",
              "      border-radius: 50%;\n",
              "      cursor: pointer;\n",
              "      display: none;\n",
              "      fill: #1967D2;\n",
              "      height: 32px;\n",
              "      padding: 0 0 0 0;\n",
              "      width: 32px;\n",
              "    }\n",
              "\n",
              "    .colab-df-convert:hover {\n",
              "      background-color: #E2EBFA;\n",
              "      box-shadow: 0px 1px 2px rgba(60, 64, 67, 0.3), 0px 1px 3px 1px rgba(60, 64, 67, 0.15);\n",
              "      fill: #174EA6;\n",
              "    }\n",
              "\n",
              "    [theme=dark] .colab-df-convert {\n",
              "      background-color: #3B4455;\n",
              "      fill: #D2E3FC;\n",
              "    }\n",
              "\n",
              "    [theme=dark] .colab-df-convert:hover {\n",
              "      background-color: #434B5C;\n",
              "      box-shadow: 0px 1px 3px 1px rgba(0, 0, 0, 0.15);\n",
              "      filter: drop-shadow(0px 1px 2px rgba(0, 0, 0, 0.3));\n",
              "      fill: #FFFFFF;\n",
              "    }\n",
              "  </style>\n",
              "\n",
              "      <script>\n",
              "        const buttonEl =\n",
              "          document.querySelector('#df-826e2782-b0fb-4d58-926d-c9edab09dcbe button.colab-df-convert');\n",
              "        buttonEl.style.display =\n",
              "          google.colab.kernel.accessAllowed ? 'block' : 'none';\n",
              "\n",
              "        async function convertToInteractive(key) {\n",
              "          const element = document.querySelector('#df-826e2782-b0fb-4d58-926d-c9edab09dcbe');\n",
              "          const dataTable =\n",
              "            await google.colab.kernel.invokeFunction('convertToInteractive',\n",
              "                                                     [key], {});\n",
              "          if (!dataTable) return;\n",
              "\n",
              "          const docLinkHtml = 'Like what you see? Visit the ' +\n",
              "            '<a target=\"_blank\" href=https://colab.research.google.com/notebooks/data_table.ipynb>data table notebook</a>'\n",
              "            + ' to learn more about interactive tables.';\n",
              "          element.innerHTML = '';\n",
              "          dataTable['output_type'] = 'display_data';\n",
              "          await google.colab.output.renderOutput(dataTable, element);\n",
              "          const docLink = document.createElement('div');\n",
              "          docLink.innerHTML = docLinkHtml;\n",
              "          element.appendChild(docLink);\n",
              "        }\n",
              "      </script>\n",
              "    </div>\n",
              "  </div>\n",
              "  "
            ]
          },
          "metadata": {},
          "execution_count": 35
        }
      ]
    },
    {
      "cell_type": "code",
      "source": [
        "df[df['nomeEstacao']=='Vila Rica']['datahora']"
      ],
      "metadata": {
        "colab": {
          "base_uri": "https://localhost:8080/"
        },
        "id": "Tvea4iDTyJ5h",
        "outputId": "057cd92f-e533-42f7-e016-69f32fea6765"
      },
      "execution_count": null,
      "outputs": [
        {
          "output_type": "execute_result",
          "data": {
            "text/plain": [
              "12365    2022-02-01 00:00:00.0\n",
              "12366    2022-02-01 01:00:00.0\n",
              "12367    2022-02-01 02:00:00.0\n",
              "12368    2022-02-01 03:00:00.0\n",
              "12369    2022-02-01 04:00:00.0\n",
              "                 ...          \n",
              "12989    2022-02-16 19:00:00.0\n",
              "12990    2022-02-16 20:00:00.0\n",
              "12991    2022-02-16 21:00:00.0\n",
              "12992    2022-02-16 22:00:00.0\n",
              "12993    2022-02-16 23:00:00.0\n",
              "Name: datahora, Length: 629, dtype: object"
            ]
          },
          "metadata": {},
          "execution_count": 36
        }
      ]
    },
    {
      "cell_type": "code",
      "source": [
        "a = df[df['nomeEstacao']=='Bingen - Geo']['datahora'].str.split(':', expand=True)\n",
        "a[0]"
      ],
      "metadata": {
        "colab": {
          "base_uri": "https://localhost:8080/"
        },
        "id": "pu4Nli3g2On7",
        "outputId": "985d4cae-87ac-4fab-9e7f-b8c6e3f5f59c"
      },
      "execution_count": null,
      "outputs": [
        {
          "output_type": "execute_result",
          "data": {
            "text/plain": [
              "2309    2022-02-01 00\n",
              "2310    2022-02-01 01\n",
              "2311    2022-02-01 02\n",
              "2312    2022-02-01 03\n",
              "2313    2022-02-01 04\n",
              "            ...      \n",
              "2988    2022-02-16 19\n",
              "2989    2022-02-16 20\n",
              "2990    2022-02-16 21\n",
              "2991    2022-02-16 22\n",
              "2992    2022-02-16 23\n",
              "Name: 0, Length: 684, dtype: object"
            ]
          },
          "metadata": {},
          "execution_count": 37
        }
      ]
    },
    {
      "cell_type": "code",
      "source": [
        "df['datahora'].str.split(':', expand=True)[0]"
      ],
      "metadata": {
        "colab": {
          "base_uri": "https://localhost:8080/"
        },
        "id": "0SNj6XhH4bFc",
        "outputId": "c5a66d01-3971-43ad-9270-ed0aa35d43f8"
      },
      "execution_count": null,
      "outputs": [
        {
          "output_type": "execute_result",
          "data": {
            "text/plain": [
              "0        2022-02-01 00\n",
              "1        2022-02-01 01\n",
              "2        2022-02-01 02\n",
              "3        2022-02-01 03\n",
              "4        2022-02-01 04\n",
              "             ...      \n",
              "12989    2022-02-16 19\n",
              "12990    2022-02-16 20\n",
              "12991    2022-02-16 21\n",
              "12992    2022-02-16 22\n",
              "12993    2022-02-16 23\n",
              "Name: 0, Length: 12994, dtype: object"
            ]
          },
          "metadata": {},
          "execution_count": 38
        }
      ]
    },
    {
      "cell_type": "code",
      "source": [
        "df['diahora'] = df['datahora'].str.split(':', expand=True)[0]\n",
        "df"
      ],
      "metadata": {
        "colab": {
          "base_uri": "https://localhost:8080/",
          "height": 423
        },
        "id": "ZvKaHFWC4t8j",
        "outputId": "746c58e2-c76a-454f-d5ec-48bde143c395"
      },
      "execution_count": null,
      "outputs": [
        {
          "output_type": "execute_result",
          "data": {
            "text/plain": [
              "        municipio  codEstacao  uf        nomeEstacao   latitude  longitude  \\\n",
              "0      PETRÓPOLIS  330390601G  RJ  Quitandinha - Geo -43.223916 -22.524907   \n",
              "1      PETRÓPOLIS  330390601G  RJ  Quitandinha - Geo -43.223916 -22.524907   \n",
              "2      PETRÓPOLIS  330390601G  RJ  Quitandinha - Geo -43.223916 -22.524907   \n",
              "3      PETRÓPOLIS  330390601G  RJ  Quitandinha - Geo -43.223916 -22.524907   \n",
              "4      PETRÓPOLIS  330390601G  RJ  Quitandinha - Geo -43.223916 -22.524907   \n",
              "...           ...         ...  ..                ...        ...        ...   \n",
              "12989  PETRÓPOLIS  330390628A  RJ          Vila Rica -43.132000 -22.349000   \n",
              "12990  PETRÓPOLIS  330390628A  RJ          Vila Rica -43.132000 -22.349000   \n",
              "12991  PETRÓPOLIS  330390628A  RJ          Vila Rica -43.132000 -22.349000   \n",
              "12992  PETRÓPOLIS  330390628A  RJ          Vila Rica -43.132000 -22.349000   \n",
              "12993  PETRÓPOLIS  330390628A  RJ          Vila Rica -43.132000 -22.349000   \n",
              "\n",
              "                    datahora  valorMedida        diahora  \n",
              "0      2022-02-01 00:10:00.0          0.0  2022-02-01 00  \n",
              "1      2022-02-01 01:10:00.0          0.0  2022-02-01 01  \n",
              "2      2022-02-01 02:10:00.0          0.0  2022-02-01 02  \n",
              "3      2022-02-01 03:10:00.0          0.0  2022-02-01 03  \n",
              "4      2022-02-01 04:10:00.0          0.0  2022-02-01 04  \n",
              "...                      ...          ...            ...  \n",
              "12989  2022-02-16 19:00:00.0          0.0  2022-02-16 19  \n",
              "12990  2022-02-16 20:00:00.0          0.0  2022-02-16 20  \n",
              "12991  2022-02-16 21:00:00.0          0.0  2022-02-16 21  \n",
              "12992  2022-02-16 22:00:00.0          0.0  2022-02-16 22  \n",
              "12993  2022-02-16 23:00:00.0          0.0  2022-02-16 23  \n",
              "\n",
              "[12994 rows x 9 columns]"
            ],
            "text/html": [
              "\n",
              "  <div id=\"df-ed34540f-ac11-4231-b41a-8968d6c7fccc\">\n",
              "    <div class=\"colab-df-container\">\n",
              "      <div>\n",
              "<style scoped>\n",
              "    .dataframe tbody tr th:only-of-type {\n",
              "        vertical-align: middle;\n",
              "    }\n",
              "\n",
              "    .dataframe tbody tr th {\n",
              "        vertical-align: top;\n",
              "    }\n",
              "\n",
              "    .dataframe thead th {\n",
              "        text-align: right;\n",
              "    }\n",
              "</style>\n",
              "<table border=\"1\" class=\"dataframe\">\n",
              "  <thead>\n",
              "    <tr style=\"text-align: right;\">\n",
              "      <th></th>\n",
              "      <th>municipio</th>\n",
              "      <th>codEstacao</th>\n",
              "      <th>uf</th>\n",
              "      <th>nomeEstacao</th>\n",
              "      <th>latitude</th>\n",
              "      <th>longitude</th>\n",
              "      <th>datahora</th>\n",
              "      <th>valorMedida</th>\n",
              "      <th>diahora</th>\n",
              "    </tr>\n",
              "  </thead>\n",
              "  <tbody>\n",
              "    <tr>\n",
              "      <th>0</th>\n",
              "      <td>PETRÓPOLIS</td>\n",
              "      <td>330390601G</td>\n",
              "      <td>RJ</td>\n",
              "      <td>Quitandinha - Geo</td>\n",
              "      <td>-43.223916</td>\n",
              "      <td>-22.524907</td>\n",
              "      <td>2022-02-01 00:10:00.0</td>\n",
              "      <td>0.0</td>\n",
              "      <td>2022-02-01 00</td>\n",
              "    </tr>\n",
              "    <tr>\n",
              "      <th>1</th>\n",
              "      <td>PETRÓPOLIS</td>\n",
              "      <td>330390601G</td>\n",
              "      <td>RJ</td>\n",
              "      <td>Quitandinha - Geo</td>\n",
              "      <td>-43.223916</td>\n",
              "      <td>-22.524907</td>\n",
              "      <td>2022-02-01 01:10:00.0</td>\n",
              "      <td>0.0</td>\n",
              "      <td>2022-02-01 01</td>\n",
              "    </tr>\n",
              "    <tr>\n",
              "      <th>2</th>\n",
              "      <td>PETRÓPOLIS</td>\n",
              "      <td>330390601G</td>\n",
              "      <td>RJ</td>\n",
              "      <td>Quitandinha - Geo</td>\n",
              "      <td>-43.223916</td>\n",
              "      <td>-22.524907</td>\n",
              "      <td>2022-02-01 02:10:00.0</td>\n",
              "      <td>0.0</td>\n",
              "      <td>2022-02-01 02</td>\n",
              "    </tr>\n",
              "    <tr>\n",
              "      <th>3</th>\n",
              "      <td>PETRÓPOLIS</td>\n",
              "      <td>330390601G</td>\n",
              "      <td>RJ</td>\n",
              "      <td>Quitandinha - Geo</td>\n",
              "      <td>-43.223916</td>\n",
              "      <td>-22.524907</td>\n",
              "      <td>2022-02-01 03:10:00.0</td>\n",
              "      <td>0.0</td>\n",
              "      <td>2022-02-01 03</td>\n",
              "    </tr>\n",
              "    <tr>\n",
              "      <th>4</th>\n",
              "      <td>PETRÓPOLIS</td>\n",
              "      <td>330390601G</td>\n",
              "      <td>RJ</td>\n",
              "      <td>Quitandinha - Geo</td>\n",
              "      <td>-43.223916</td>\n",
              "      <td>-22.524907</td>\n",
              "      <td>2022-02-01 04:10:00.0</td>\n",
              "      <td>0.0</td>\n",
              "      <td>2022-02-01 04</td>\n",
              "    </tr>\n",
              "    <tr>\n",
              "      <th>...</th>\n",
              "      <td>...</td>\n",
              "      <td>...</td>\n",
              "      <td>...</td>\n",
              "      <td>...</td>\n",
              "      <td>...</td>\n",
              "      <td>...</td>\n",
              "      <td>...</td>\n",
              "      <td>...</td>\n",
              "      <td>...</td>\n",
              "    </tr>\n",
              "    <tr>\n",
              "      <th>12989</th>\n",
              "      <td>PETRÓPOLIS</td>\n",
              "      <td>330390628A</td>\n",
              "      <td>RJ</td>\n",
              "      <td>Vila Rica</td>\n",
              "      <td>-43.132000</td>\n",
              "      <td>-22.349000</td>\n",
              "      <td>2022-02-16 19:00:00.0</td>\n",
              "      <td>0.0</td>\n",
              "      <td>2022-02-16 19</td>\n",
              "    </tr>\n",
              "    <tr>\n",
              "      <th>12990</th>\n",
              "      <td>PETRÓPOLIS</td>\n",
              "      <td>330390628A</td>\n",
              "      <td>RJ</td>\n",
              "      <td>Vila Rica</td>\n",
              "      <td>-43.132000</td>\n",
              "      <td>-22.349000</td>\n",
              "      <td>2022-02-16 20:00:00.0</td>\n",
              "      <td>0.0</td>\n",
              "      <td>2022-02-16 20</td>\n",
              "    </tr>\n",
              "    <tr>\n",
              "      <th>12991</th>\n",
              "      <td>PETRÓPOLIS</td>\n",
              "      <td>330390628A</td>\n",
              "      <td>RJ</td>\n",
              "      <td>Vila Rica</td>\n",
              "      <td>-43.132000</td>\n",
              "      <td>-22.349000</td>\n",
              "      <td>2022-02-16 21:00:00.0</td>\n",
              "      <td>0.0</td>\n",
              "      <td>2022-02-16 21</td>\n",
              "    </tr>\n",
              "    <tr>\n",
              "      <th>12992</th>\n",
              "      <td>PETRÓPOLIS</td>\n",
              "      <td>330390628A</td>\n",
              "      <td>RJ</td>\n",
              "      <td>Vila Rica</td>\n",
              "      <td>-43.132000</td>\n",
              "      <td>-22.349000</td>\n",
              "      <td>2022-02-16 22:00:00.0</td>\n",
              "      <td>0.0</td>\n",
              "      <td>2022-02-16 22</td>\n",
              "    </tr>\n",
              "    <tr>\n",
              "      <th>12993</th>\n",
              "      <td>PETRÓPOLIS</td>\n",
              "      <td>330390628A</td>\n",
              "      <td>RJ</td>\n",
              "      <td>Vila Rica</td>\n",
              "      <td>-43.132000</td>\n",
              "      <td>-22.349000</td>\n",
              "      <td>2022-02-16 23:00:00.0</td>\n",
              "      <td>0.0</td>\n",
              "      <td>2022-02-16 23</td>\n",
              "    </tr>\n",
              "  </tbody>\n",
              "</table>\n",
              "<p>12994 rows × 9 columns</p>\n",
              "</div>\n",
              "      <button class=\"colab-df-convert\" onclick=\"convertToInteractive('df-ed34540f-ac11-4231-b41a-8968d6c7fccc')\"\n",
              "              title=\"Convert this dataframe to an interactive table.\"\n",
              "              style=\"display:none;\">\n",
              "        \n",
              "  <svg xmlns=\"http://www.w3.org/2000/svg\" height=\"24px\"viewBox=\"0 0 24 24\"\n",
              "       width=\"24px\">\n",
              "    <path d=\"M0 0h24v24H0V0z\" fill=\"none\"/>\n",
              "    <path d=\"M18.56 5.44l.94 2.06.94-2.06 2.06-.94-2.06-.94-.94-2.06-.94 2.06-2.06.94zm-11 1L8.5 8.5l.94-2.06 2.06-.94-2.06-.94L8.5 2.5l-.94 2.06-2.06.94zm10 10l.94 2.06.94-2.06 2.06-.94-2.06-.94-.94-2.06-.94 2.06-2.06.94z\"/><path d=\"M17.41 7.96l-1.37-1.37c-.4-.4-.92-.59-1.43-.59-.52 0-1.04.2-1.43.59L10.3 9.45l-7.72 7.72c-.78.78-.78 2.05 0 2.83L4 21.41c.39.39.9.59 1.41.59.51 0 1.02-.2 1.41-.59l7.78-7.78 2.81-2.81c.8-.78.8-2.07 0-2.86zM5.41 20L4 18.59l7.72-7.72 1.47 1.35L5.41 20z\"/>\n",
              "  </svg>\n",
              "      </button>\n",
              "      \n",
              "  <style>\n",
              "    .colab-df-container {\n",
              "      display:flex;\n",
              "      flex-wrap:wrap;\n",
              "      gap: 12px;\n",
              "    }\n",
              "\n",
              "    .colab-df-convert {\n",
              "      background-color: #E8F0FE;\n",
              "      border: none;\n",
              "      border-radius: 50%;\n",
              "      cursor: pointer;\n",
              "      display: none;\n",
              "      fill: #1967D2;\n",
              "      height: 32px;\n",
              "      padding: 0 0 0 0;\n",
              "      width: 32px;\n",
              "    }\n",
              "\n",
              "    .colab-df-convert:hover {\n",
              "      background-color: #E2EBFA;\n",
              "      box-shadow: 0px 1px 2px rgba(60, 64, 67, 0.3), 0px 1px 3px 1px rgba(60, 64, 67, 0.15);\n",
              "      fill: #174EA6;\n",
              "    }\n",
              "\n",
              "    [theme=dark] .colab-df-convert {\n",
              "      background-color: #3B4455;\n",
              "      fill: #D2E3FC;\n",
              "    }\n",
              "\n",
              "    [theme=dark] .colab-df-convert:hover {\n",
              "      background-color: #434B5C;\n",
              "      box-shadow: 0px 1px 3px 1px rgba(0, 0, 0, 0.15);\n",
              "      filter: drop-shadow(0px 1px 2px rgba(0, 0, 0, 0.3));\n",
              "      fill: #FFFFFF;\n",
              "    }\n",
              "  </style>\n",
              "\n",
              "      <script>\n",
              "        const buttonEl =\n",
              "          document.querySelector('#df-ed34540f-ac11-4231-b41a-8968d6c7fccc button.colab-df-convert');\n",
              "        buttonEl.style.display =\n",
              "          google.colab.kernel.accessAllowed ? 'block' : 'none';\n",
              "\n",
              "        async function convertToInteractive(key) {\n",
              "          const element = document.querySelector('#df-ed34540f-ac11-4231-b41a-8968d6c7fccc');\n",
              "          const dataTable =\n",
              "            await google.colab.kernel.invokeFunction('convertToInteractive',\n",
              "                                                     [key], {});\n",
              "          if (!dataTable) return;\n",
              "\n",
              "          const docLinkHtml = 'Like what you see? Visit the ' +\n",
              "            '<a target=\"_blank\" href=https://colab.research.google.com/notebooks/data_table.ipynb>data table notebook</a>'\n",
              "            + ' to learn more about interactive tables.';\n",
              "          element.innerHTML = '';\n",
              "          dataTable['output_type'] = 'display_data';\n",
              "          await google.colab.output.renderOutput(dataTable, element);\n",
              "          const docLink = document.createElement('div');\n",
              "          docLink.innerHTML = docLinkHtml;\n",
              "          element.appendChild(docLink);\n",
              "        }\n",
              "      </script>\n",
              "    </div>\n",
              "  </div>\n",
              "  "
            ]
          },
          "metadata": {},
          "execution_count": 39
        }
      ]
    },
    {
      "cell_type": "markdown",
      "source": [
        "Haviam estações que mediam mais de uma vez no mesmo instante de tempo"
      ],
      "metadata": {
        "id": "QLa5rmxTajdc"
      }
    },
    {
      "cell_type": "code",
      "source": [
        "df = df.groupby(['nomeEstacao', 'diahora', 'latitude', 'longitude']).valorMedida.mean().reset_index()"
      ],
      "metadata": {
        "id": "vcvNPcL6M9YV"
      },
      "execution_count": null,
      "outputs": []
    },
    {
      "cell_type": "markdown",
      "source": [
        "* O máximo de estações que funcionam ao mesmo tempo seriam 17 vizinhos e não 21"
      ],
      "metadata": {
        "id": "xjXNt1evOZa_"
      }
    },
    {
      "cell_type": "code",
      "source": [
        "df.groupby('diahora').count()[\"valorMedida\"].min()"
      ],
      "metadata": {
        "colab": {
          "base_uri": "https://localhost:8080/"
        },
        "id": "Cq3mTctDA0ke",
        "outputId": "208b6cbc-c2e0-45ff-ea27-8fa6d23fa790"
      },
      "execution_count": null,
      "outputs": [
        {
          "output_type": "execute_result",
          "data": {
            "text/plain": [
              "17"
            ]
          },
          "metadata": {},
          "execution_count": 41
        }
      ]
    },
    {
      "cell_type": "code",
      "source": [
        "df = df.rename(columns={'latitude':'longitude', 'longitude':'latitude'})"
      ],
      "metadata": {
        "id": "3-WPhpdtLqRI"
      },
      "execution_count": null,
      "outputs": []
    },
    {
      "cell_type": "code",
      "source": [
        "def calculaDistancias(x, y):\n",
        "  lstPri = []\n",
        "\n",
        "  for i in range(x[0].shape[0]):\n",
        "    for j in range(len(x)):\n",
        "      lstSeg = []\n",
        "      for k in range(len(y)):\n",
        "        z = haversine(x[j][i],y[k])\n",
        "        lstSeg.append(z)\n",
        "        \n",
        "      lstPri.append(lstSeg)\n",
        "  return lstPri"
      ],
      "metadata": {
        "id": "t2zRs3LQIHhL"
      },
      "execution_count": null,
      "outputs": []
    },
    {
      "cell_type": "code",
      "execution_count": null,
      "metadata": {
        "id": "0U2VrC-jIUAR"
      },
      "outputs": [],
      "source": [
        "#localização dos centroides\n",
        "x = np.array([\n",
        "        [(-22.54317041, -43.26641772), (-22.54318803, -43.26641772), (-22.54320564, -43.26641772), (-22.54322326, -43.26641772), (-22.54324087, -43.26641772), (-22.54325849, -43.26641772), (-22.54327611, -43.26641772), (-22.54329372, -43.26641772), (-22.54331134, -43.26641772), (-22.54332895, -43.26641772), (-22.54334657, -43.26641772), (-22.54336419, -43.26641772), (-22.54338180, -43.26641772), (-22.54339942, -43.26641772), (-22.54341703, -43.26641772), (-22.54343465, -43.26641772), (-22.54345227, -43.26641772), (-22.54346988, -43.26641772), (-22.54348750, -43.26641772), (-22.54350511, -43.26641772), (-22.54352273, -43.26641772), (-22.54354035, -43.26641772), (-22.54355796, -43.26641772), (-22.54357558, -43.26641772), (-22.54359319, -43.26641772), (-22.54361081, -43.26641772), (-22.54362843, -43.26641772), (-22.54364604, -43.26641772), (-22.54366366, -43.26641772), (-22.54368127, -43.26641772), (-22.54369889, -43.26641772), (-22.54371651, -43.26641772), (-22.54373412, -43.26641772), (-22.54375174, -43.26641772), (-22.54376935, -43.26641772), (-22.54378697, -43.26641772)], \n",
        "\n",
        "        [(-22.54317041, -43.26646350), (-22.54318803, -43.26646350), (-22.54320564, -43.26646350), (-22.54322326, -43.26646350), (-22.54324087, -43.26646350), (-22.54325849, -43.26646350), (-22.54327611, -43.26646350), (-22.54329372, -43.26646350), (-22.54331134, -43.26646350), (-22.54332895, -43.26646350), (-22.54334657, -43.26646350), (-22.54336419, -43.26646350), (-22.54338180, -43.26646350), (-22.54339942, -43.26646350), (-22.54341703, -43.26646350), (-22.54343465, -43.26646350), (-22.54345227, -43.26646350), (-22.54346988, -43.26646350), (-22.54348750, -43.26646350), (-22.54350511, -43.26646350), (-22.54352273, -43.26646350), (-22.54354035, -43.26646350), (-22.54355796, -43.26646350), (-22.54357558, -43.26646350), (-22.54359319, -43.26646350), (-22.54361081, -43.26646350), (-22.54362843, -43.26646350), (-22.54364604, -43.26646350), (-22.54366366, -43.26646350), (-22.54368127, -43.26646350), (-22.54369889, -43.26646350), (-22.54371651, -43.26646350), (-22.54373412, -43.26646350), (-22.54375174, -43.26646350), (-22.54376935, -43.26646350), (-22.54378697, -43.26646350)], \n",
        "\n",
        "        [(-22.54317041, -43.26650927), (-22.54318803, -43.26650927), (-22.54320564, -43.26650927), (-22.54322326, -43.26650927), (-22.54324087, -43.26650927), (-22.54325849, -43.26650927), (-22.54327611, -43.26650927), (-22.54329372, -43.26650927), (-22.54331134, -43.26650927), (-22.54332895, -43.26650927), (-22.54334657, -43.26650927), (-22.54336419, -43.26650927), (-22.54338180, -43.26650927), (-22.54339942, -43.26650927), (-22.54341703, -43.26650927), (-22.54343465, -43.26650927), (-22.54345227, -43.26650927), (-22.54346988, -43.26650927), (-22.54348750, -43.26650927), (-22.54350511, -43.26650927), (-22.54352273, -43.26650927), (-22.54354035, -43.26650927), (-22.54355796, -43.26650927), (-22.54357558, -43.26650927), (-22.54359319, -43.26650927), (-22.54361081, -43.26650927), (-22.54362843, -43.26650927), (-22.54364604, -43.26650927), (-22.54366366, -43.26650927), (-22.54368127, -43.26650927), (-22.54369889, -43.26650927), (-22.54371651, -43.26650927), (-22.54373412, -43.26650927), (-22.54375174, -43.26650927), (-22.54376935, -43.26650927), (-22.54378697, -43.26650927)], \n",
        "\n",
        "        [(-22.54317041, -43.26655505), (-22.54318803, -43.26655505), (-22.54320564, -43.26655505), (-22.54322326, -43.26655505), (-22.54324087, -43.26655505), (-22.54325849, -43.26655505), (-22.54327611, -43.26655505), (-22.54329372, -43.26655505), (-22.54331134, -43.26655505), (-22.54332895, -43.26655505), (-22.54334657, -43.26655505), (-22.54336419, -43.26655505), (-22.54338180, -43.26655505), (-22.54339942, -43.26655505), (-22.54341703, -43.26655505), (-22.54343465, -43.26655505), (-22.54345227, -43.26655505), (-22.54346988, -43.26655505), (-22.54348750, -43.26655505), (-22.54350511, -43.26655505), (-22.54352273, -43.26655505), (-22.54354035, -43.26655505), (-22.54355796, -43.26655505), (-22.54357558, -43.26655505), (-22.54359319, -43.26655505), (-22.54361081, -43.26655505), (-22.54362843, -43.26655505), (-22.54364604, -43.26655505), (-22.54366366, -43.26655505), (-22.54368127, -43.26655505), (-22.54369889, -43.26655505), (-22.54371651, -43.26655505), (-22.54373412, -43.26655505), (-22.54375174, -43.26655505), (-22.54376935, -43.26655505), (-22.54378697, -43.26655505)],\n",
        "\n",
        "        [(-22.54317041, -43.26660083), (-22.54318803, -43.26660083), (-22.54320564, -43.26660083), (-22.54322326, -43.26660083), (-22.54324087, -43.26660083), (-22.54325849, -43.26660083), (-22.54327611, -43.26660083), (-22.54329372, -43.26660083), (-22.54331134, -43.26660083), (-22.54332895, -43.26660083), (-22.54334657, -43.26660083), (-22.54336419, -43.26660083), (-22.54338180, -43.26660083), (-22.54339942, -43.26660083), (-22.54341703, -43.26660083), (-22.54343465, -43.26660083), (-22.54345227, -43.26660083), (-22.54346988, -43.26660083), (-22.54348750, -43.26660083), (-22.54350511, -43.26660083), (-22.54352273, -43.26660083), (-22.54354035, -43.26660083), (-22.54355796, -43.26660083), (-22.54357558, -43.26660083), (-22.54359319, -43.26660083), (-22.54361081, -43.26660083), (-22.54362843, -43.26660083), (-22.54364604, -43.26660083), (-22.54366366, -43.26660083), (-22.54368127, -43.26660083), (-22.54369889, -43.26660083), (-22.54371651, -43.26660083), (-22.54373412, -43.26660083), (-22.54375174, -43.26660083), (-22.54376935, -43.26660083), (-22.54378697, -43.26660083)],\n",
        "\n",
        "        [(-22.54317041, -43.26664660), (-22.54318803, -43.26664660), (-22.54320564, -43.26664660), (-22.54322326, -43.26664660), (-22.54324087, -43.26664660), (-22.54325849, -43.26664660), (-22.54327611, -43.26664660), (-22.54329372, -43.26664660), (-22.54331134, -43.26664660), (-22.54332895, -43.26664660), (-22.54334657, -43.26664660), (-22.54336419, -43.26664660), (-22.54338180, -43.26664660), (-22.54339942, -43.26664660), (-22.54341703, -43.26664660), (-22.54343465, -43.26664660), (-22.54345227, -43.26664660), (-22.54346988, -43.26664660), (-22.54348750, -43.26664660), (-22.54350511, -43.26664660), (-22.54352273, -43.26664660), (-22.54354035, -43.26664660), (-22.54355796, -43.26664660), (-22.54357558, -43.26664660), (-22.54359319, -43.26664660), (-22.54361081, -43.26664660), (-22.54362843, -43.26664660), (-22.54364604, -43.26664660), (-22.54366366, -43.26664660), (-22.54368127, -43.26664660), (-22.54369889, -43.26664660), (-22.54371651, -43.26664660), (-22.54373412, -43.26664660), (-22.54375174, -43.26664660), (-22.54376935, -43.26664660), (-22.54378697, -43.26664660)],\n",
        "\n",
        "        [(-22.54317041, -43.26669238), (-22.54318803, -43.26669238), (-22.54320564, -43.26669238), (-22.54322326, -43.26669238), (-22.54324087, -43.26669238), (-22.54325849, -43.26669238), (-22.54327611, -43.26669238), (-22.54329372, -43.26669238), (-22.54331134, -43.26669238), (-22.54332895, -43.26669238), (-22.54334657, -43.26669238), (-22.54336419, -43.26669238), (-22.54338180, -43.26669238), (-22.54339942, -43.26669238), (-22.54341703, -43.26669238), (-22.54343465, -43.26669238), (-22.54345227, -43.26669238), (-22.54346988, -43.26669238), (-22.54348750, -43.26669238), (-22.54350511, -43.26669238), (-22.54352273, -43.26669238), (-22.54354035, -43.26669238), (-22.54355796, -43.26669238), (-22.54357558, -43.26669238), (-22.54359319, -43.26669238), (-22.54361081, -43.26669238), (-22.54362843, -43.26669238), (-22.54364604, -43.26669238), (-22.54366366, -43.26669238), (-22.54368127, -43.26669238), (-22.54369889, -43.26669238), (-22.54371651, -43.26669238), (-22.54373412, -43.26669238), (-22.54375174, -43.26669238), (-22.54376935, -43.26669238), (-22.54378697, -43.26669238)], \n",
        "\n",
        "        [(-22.54317041, -43.26673815), (-22.54318803, -43.26673815), (-22.54320564, -43.26673815), (-22.54322326, -43.26673815), (-22.54324087, -43.26673815), (-22.54325849, -43.26673815), (-22.54327611, -43.26673815), (-22.54329372, -43.26673815), (-22.54331134, -43.26673815), (-22.54332895, -43.26673815), (-22.54334657, -43.26673815), (-22.54336419, -43.26673815), (-22.54338180, -43.26673815), (-22.54339942, -43.26673815), (-22.54341703, -43.26673815), (-22.54343465, -43.26673815), (-22.54345227, -43.26673815), (-22.54346988, -43.26673815), (-22.54348750, -43.26673815), (-22.54350511, -43.26673815), (-22.54352273, -43.26673815), (-22.54354035, -43.26673815), (-22.54355796, -43.26673815), (-22.54357558, -43.26673815), (-22.54359319, -43.26673815), (-22.54361081, -43.26673815), (-22.54362843, -43.26673815), (-22.54364604, -43.26673815), (-22.54366366, -43.26673815), (-22.54368127, -43.26673815), (-22.54369889, -43.26673815), (-22.54371651, -43.26673815), (-22.54373412, -43.26673815), (-22.54375174, -43.26673815), (-22.54376935, -43.26673815), (-22.54378697, -43.26673815)], \n",
        "\n",
        "        [(-22.54317041, -43.26678393), (-22.54318803, -43.26678393), (-22.54320564, -43.26678393), (-22.54322326, -43.26678393), (-22.54324087, -43.26678393), (-22.54325849, -43.26678393), (-22.54327611, -43.26678393), (-22.54329372, -43.26678393), (-22.54331134, -43.26678393), (-22.54332895, -43.26678393), (-22.54334657, -43.26678393), (-22.54336419, -43.26678393), (-22.54338180, -43.26678393), (-22.54339942, -43.26678393), (-22.54341703, -43.26678393), (-22.54343465, -43.26678393), (-22.54345227, -43.26678393), (-22.54346988, -43.26678393), (-22.54348750, -43.26678393), (-22.54350511, -43.26678393), (-22.54352273, -43.26678393), (-22.54354035, -43.26678393), (-22.54355796, -43.26678393), (-22.54357558, -43.26678393), (-22.54359319, -43.26678393), (-22.54361081, -43.26678393), (-22.54362843, -43.26678393), (-22.54364604, -43.26678393), (-22.54366366, -43.26678393), (-22.54368127, -43.26678393), (-22.54369889, -43.26678393), (-22.54371651, -43.26678393), (-22.54373412, -43.26678393), (-22.54375174, -43.26678393), (-22.54376935, -43.26678393), (-22.54378697, -43.26678393)],\n",
        "           \n",
        "        [(-22.54317041, -43.26682971), (-22.54318803, -43.26682971), (-22.54320564, -43.26682971), (-22.54322326, -43.26682971), (-22.54324087, -43.26682971), (-22.54325849, -43.26682971), (-22.54327611, -43.26682971), (-22.54329372, -43.26682971), (-22.54331134, -43.26682971), (-22.54332895, -43.26682971), (-22.54334657, -43.26682971), (-22.54336419, -43.26682971), (-22.54338180, -43.26682971), (-22.54339942, -43.26682971), (-22.54341703, -43.26682971), (-22.54343465, -43.26682971), (-22.54345227, -43.26682971), (-22.54346988, -43.26682971), (-22.54348750, -43.26682971), (-22.54350511, -43.26682971), (-22.54352273, -43.26682971), (-22.54354035, -43.26682971), (-22.54355796, -43.26682971), (-22.54357558, -43.26682971), (-22.54359319, -43.26682971), (-22.54361081, -43.26682971), (-22.54362843, -43.26682971), (-22.54364604, -43.26682971), (-22.54366366, -43.26682971), (-22.54368127, -43.26682971), (-22.54369889, -43.26682971), (-22.54371651, -43.26682971), (-22.54373412, -43.26682971), (-22.54375174, -43.26682971), (-22.54376935, -43.26682971), (-22.54378697, -43.26682971)],\n",
        "    \n",
        "        [(-22.54317041, -43.26687548), (-22.54318803, -43.26687548), (-22.54320564, -43.26687548), (-22.54322326, -43.26687548), (-22.54324087, -43.26687548), (-22.54325849, -43.26687548), (-22.54327611, -43.26687548), (-22.54329372, -43.26687548), (-22.54331134, -43.26687548), (-22.54332895, -43.26687548), (-22.54334657, -43.26687548), (-22.54336419, -43.26687548), (-22.54338180, -43.26687548), (-22.54339942, -43.26687548), (-22.54341703, -43.26687548), (-22.54343465, -43.26687548), (-22.54345227, -43.26687548), (-22.54346988, -43.26687548), (-22.54348750, -43.26687548), (-22.54350511, -43.26687548), (-22.54352273, -43.26687548), (-22.54354035, -43.26687548), (-22.54355796, -43.26687548), (-22.54357558, -43.26687548), (-22.54359319, -43.26687548), (-22.54361081, -43.26687548), (-22.54362843, -43.26687548), (-22.54364604, -43.26687548), (-22.54366366, -43.26687548), (-22.54368127, -43.26687548), (-22.54369889, -43.26687548), (-22.54371651, -43.26687548), (-22.54373412, -43.26687548), (-22.54375174, -43.26687548), (-22.54376935, -43.26687548), (-22.54378697, -43.26687548)],\n",
        "    \n",
        "        [(-22.54317041, -43.26692126), (-22.54318803, -43.26692126), (-22.54320564, -43.26692126), (-22.54322326, -43.26692126), (-22.54324087, -43.26692126), (-22.54325849, -43.26692126), (-22.54327611, -43.26692126), (-22.54329372, -43.26692126), (-22.54331134, -43.26692126), (-22.54332895, -43.26692126), (-22.54334657, -43.26692126), (-22.54336419, -43.26692126), (-22.54338180, -43.26692126), (-22.54339942, -43.26692126), (-22.54341703, -43.26692126), (-22.54343465, -43.26692126), (-22.54345227, -43.26692126), (-22.54346988, -43.26692126), (-22.54348750, -43.26692126), (-22.54350511, -43.26692126), (-22.54352273, -43.26692126), (-22.54354035, -43.26692126), (-22.54355796, -43.26692126), (-22.54357558, -43.26692126), (-22.54359319, -43.26692126), (-22.54361081, -43.26692126), (-22.54362843, -43.26692126), (-22.54364604, -43.26692126), (-22.54366366, -43.26692126), (-22.54368127, -43.26692126), (-22.54369889, -43.26692126), (-22.54371651, -43.26692126), (-22.54373412, -43.26692126), (-22.54375174, -43.26692126), (-22.54376935, -43.26692126), (-22.54378697, -43.26692126)],\n",
        "                                 \n",
        "        [(-22.54317041, -43.26696703), (-22.54318803, -43.26696703), (-22.54320564, -43.26696703), (-22.54322326, -43.26696703), (-22.54324087, -43.26696703), (-22.54325849, -43.26696703), (-22.54327611, -43.26696703), (-22.54329372, -43.26696703), (-22.54331134, -43.26696703), (-22.54332895, -43.26696703), (-22.54334657, -43.26696703), (-22.54336419, -43.26696703), (-22.54338180, -43.26696703), (-22.54339942, -43.26696703), (-22.54341703, -43.26696703), (-22.54343465, -43.26696703), (-22.54345227, -43.26696703), (-22.54346988, -43.26696703), (-22.54348750, -43.26696703), (-22.54350511, -43.26696703), (-22.54352273, -43.26696703), (-22.54354035, -43.26696703), (-22.54355796, -43.26696703), (-22.54357558, -43.26696703), (-22.54359319, -43.26696703), (-22.54361081, -43.26696703), (-22.54362843, -43.26696703), (-22.54364604, -43.26696703), (-22.54366366, -43.26696703), (-22.54368127, -43.26696703), (-22.54369889, -43.26696703), (-22.54371651, -43.26696703), (-22.54373412, -43.26696703), (-22.54375174, -43.26696703), (-22.54376935, -43.26696703), (-22.54378697, -43.26696703)],\n",
        "               \n",
        "        [(-22.54317041, -43.26701281), (-22.54318803, -43.26701281), (-22.54320564, -43.26701281), (-22.54322326, -43.26701281), (-22.54324087, -43.26701281), (-22.54325849, -43.26701281), (-22.54327611, -43.26701281), (-22.54329372, -43.26701281), (-22.54331134, -43.26701281), (-22.54332895, -43.26701281), (-22.54334657, -43.26701281), (-22.54336419, -43.26701281), (-22.54338180, -43.26701281), (-22.54339942, -43.26701281), (-22.54341703, -43.26701281), (-22.54343465, -43.26701281), (-22.54345227, -43.26701281), (-22.54346988, -43.26701281), (-22.54348750, -43.26701281), (-22.54350511, -43.26701281), (-22.54352273, -43.26701281), (-22.54354035, -43.26701281), (-22.54355796, -43.26701281), (-22.54357558, -43.26701281), (-22.54359319, -43.26701281), (-22.54361081, -43.26701281), (-22.54362843, -43.26701281), (-22.54364604, -43.26701281), (-22.54366366, -43.26701281), (-22.54368127, -43.26701281), (-22.54369889, -43.26701281), (-22.54371651, -43.26701281), (-22.54373412, -43.26701281), (-22.54375174, -43.26701281), (-22.54376935, -43.26701281), (-22.54378697, -43.26701281)],\n",
        "\n",
        "        [(-22.54317041, -43.26705859), (-22.54318803, -43.26705859), (-22.54320564, -43.26705859), (-22.54322326, -43.26705859), (-22.54324087, -43.26705859), (-22.54325849, -43.26705859), (-22.54327611, -43.26705859), (-22.54329372, -43.26705859), (-22.54331134, -43.26705859), (-22.54332895, -43.26705859), (-22.54334657, -43.26705859), (-22.54336419, -43.26705859), (-22.54338180, -43.26705859), (-22.54339942, -43.26705859), (-22.54341703, -43.26705859), (-22.54343465, -43.26705859), (-22.54345227, -43.26705859), (-22.54346988, -43.26705859), (-22.54348750, -43.26705859), (-22.54350511, -43.26705859), (-22.54352273, -43.26705859), (-22.54354035, -43.26705859), (-22.54355796, -43.26705859), (-22.54357558, -43.26705859), (-22.54359319, -43.26705859), (-22.54361081, -43.26705859), (-22.54362843, -43.26705859), (-22.54364604, -43.26705859), (-22.54366366, -43.26705859), (-22.54368127, -43.26705859), (-22.54369889, -43.26705859), (-22.54371651, -43.26705859), (-22.54373412, -43.26705859), (-22.54375174, -43.26705859), (-22.54376935, -43.26705859), (-22.54378697, -43.26705859)]\n",
        "        ])"
      ]
    },
    {
      "cell_type": "code",
      "source": [
        "for j in df['diahora'].unique():\n",
        "  string = \"diahora  == \" + str(j)\n",
        "  y = df[df['diahora'] == j][[\"latitude\", \"longitude\"]].values"
      ],
      "metadata": {
        "id": "sWyIUbgM3Qda"
      },
      "execution_count": null,
      "outputs": []
    },
    {
      "cell_type": "code",
      "source": [
        "y"
      ],
      "metadata": {
        "colab": {
          "base_uri": "https://localhost:8080/"
        },
        "id": "U4Vm5fuL3V85",
        "outputId": "11047244-d9b1-4fb1-c9cc-c7afa62b5b10"
      },
      "execution_count": null,
      "outputs": [
        {
          "output_type": "execute_result",
          "data": {
            "text/plain": [
              "array([[-22.51221 , -43.209475],\n",
              "       [-22.258   , -43.076   ],\n",
              "       [-22.454   , -43.143   ],\n",
              "       [-22.428   , -43.058   ],\n",
              "       [-22.353   , -43.095   ],\n",
              "       [-22.374   , -43.046   ],\n",
              "       [-22.548   , -43.209   ],\n",
              "       [-22.388   , -43.132   ],\n",
              "       [-22.369   , -43.112   ],\n",
              "       [-22.527   , -43.161   ],\n",
              "       [-22.481   , -43.219   ],\n",
              "       [-22.524907, -43.223916],\n",
              "       [-22.529   , -43.223   ],\n",
              "       [-22.52    , -43.22    ],\n",
              "       [-22.536909, -43.19324 ],\n",
              "       [-22.402   , -43.047   ],\n",
              "       [-22.401   , -43.097   ],\n",
              "       [-22.349   , -43.132   ]])"
            ]
          },
          "metadata": {},
          "execution_count": 46
        }
      ]
    },
    {
      "cell_type": "code",
      "source": [
        "import matplotlib.pyplot as plt"
      ],
      "metadata": {
        "id": "tfugGb8o3kat"
      },
      "execution_count": null,
      "outputs": []
    },
    {
      "cell_type": "code",
      "source": [
        "plt.scatter(y[:,0], y[:,1])\n",
        "\n",
        "plt.xlim(-22.54379578448828, -22.46830814663263) #range do eixo x\n",
        "plt.ylim(-43.26708148350691, -43.089926950223095) #range do eixo y\n",
        "\n",
        "plt.grid(True)"
      ],
      "metadata": {
        "colab": {
          "base_uri": "https://localhost:8080/",
          "height": 265
        },
        "id": "oaGfZ1WA3duH",
        "outputId": "9fcce418-f345-487c-9d9c-b71a1403fd22"
      },
      "execution_count": null,
      "outputs": [
        {
          "output_type": "display_data",
          "data": {
            "text/plain": [
              "<Figure size 432x288 with 1 Axes>"
            ],
            "image/png": "[encoded data removed]"
          },
          "metadata": {
            "needs_background": "light"
          }
        }
      ]
    },
    {
      "cell_type": "code",
      "execution_count": null,
      "metadata": {
        "colab": {
          "base_uri": "https://localhost:8080/"
        },
        "id": "c77XebNMIUAZ",
        "outputId": "0361b991-e375-47b4-b497-c811d0c7fe78"
      },
      "outputs": [
        {
          "output_type": "stream",
          "name": "stdout",
          "text": [
            "[array([-22.54317041, -43.26641772]), array([-22.54317041, -43.2664635 ]), array([-22.54317041, -43.26650927]), array([-22.54317041, -43.26655505]), array([-22.54317041, -43.26660083]), array([-22.54317041, -43.2666466 ]), array([-22.54317041, -43.26669238]), array([-22.54317041, -43.26673815]), array([-22.54317041, -43.26678393]), array([-22.54317041, -43.26682971]), array([-22.54317041, -43.26687548]), array([-22.54317041, -43.26692126]), array([-22.54317041, -43.26696703]), array([-22.54317041, -43.26701281]), array([-22.54317041, -43.26705859]), array([-22.54318803, -43.26641772]), array([-22.54318803, -43.2664635 ]), array([-22.54318803, -43.26650927]), array([-22.54318803, -43.26655505]), array([-22.54318803, -43.26660083]), array([-22.54318803, -43.2666466 ]), array([-22.54318803, -43.26669238]), array([-22.54318803, -43.26673815]), array([-22.54318803, -43.26678393]), array([-22.54318803, -43.26682971]), array([-22.54318803, -43.26687548]), array([-22.54318803, -43.26692126]), array([-22.54318803, -43.26696703]), array([-22.54318803, -43.26701281]), array([-22.54318803, -43.26705859]), array([-22.54320564, -43.26641772]), array([-22.54320564, -43.2664635 ]), array([-22.54320564, -43.26650927]), array([-22.54320564, -43.26655505]), array([-22.54320564, -43.26660083]), array([-22.54320564, -43.2666466 ]), array([-22.54320564, -43.26669238]), array([-22.54320564, -43.26673815]), array([-22.54320564, -43.26678393]), array([-22.54320564, -43.26682971]), array([-22.54320564, -43.26687548]), array([-22.54320564, -43.26692126]), array([-22.54320564, -43.26696703]), array([-22.54320564, -43.26701281]), array([-22.54320564, -43.26705859]), array([-22.54322326, -43.26641772]), array([-22.54322326, -43.2664635 ]), array([-22.54322326, -43.26650927]), array([-22.54322326, -43.26655505]), array([-22.54322326, -43.26660083]), array([-22.54322326, -43.2666466 ]), array([-22.54322326, -43.26669238]), array([-22.54322326, -43.26673815]), array([-22.54322326, -43.26678393]), array([-22.54322326, -43.26682971]), array([-22.54322326, -43.26687548]), array([-22.54322326, -43.26692126]), array([-22.54322326, -43.26696703]), array([-22.54322326, -43.26701281]), array([-22.54322326, -43.26705859]), array([-22.54324087, -43.26641772]), array([-22.54324087, -43.2664635 ]), array([-22.54324087, -43.26650927]), array([-22.54324087, -43.26655505]), array([-22.54324087, -43.26660083]), array([-22.54324087, -43.2666466 ]), array([-22.54324087, -43.26669238]), array([-22.54324087, -43.26673815]), array([-22.54324087, -43.26678393]), array([-22.54324087, -43.26682971]), array([-22.54324087, -43.26687548]), array([-22.54324087, -43.26692126]), array([-22.54324087, -43.26696703]), array([-22.54324087, -43.26701281]), array([-22.54324087, -43.26705859]), array([-22.54325849, -43.26641772]), array([-22.54325849, -43.2664635 ]), array([-22.54325849, -43.26650927]), array([-22.54325849, -43.26655505]), array([-22.54325849, -43.26660083]), array([-22.54325849, -43.2666466 ]), array([-22.54325849, -43.26669238]), array([-22.54325849, -43.26673815]), array([-22.54325849, -43.26678393]), array([-22.54325849, -43.26682971]), array([-22.54325849, -43.26687548]), array([-22.54325849, -43.26692126]), array([-22.54325849, -43.26696703]), array([-22.54325849, -43.26701281]), array([-22.54325849, -43.26705859]), array([-22.54327611, -43.26641772]), array([-22.54327611, -43.2664635 ]), array([-22.54327611, -43.26650927]), array([-22.54327611, -43.26655505]), array([-22.54327611, -43.26660083]), array([-22.54327611, -43.2666466 ]), array([-22.54327611, -43.26669238]), array([-22.54327611, -43.26673815]), array([-22.54327611, -43.26678393]), array([-22.54327611, -43.26682971]), array([-22.54327611, -43.26687548]), array([-22.54327611, -43.26692126]), array([-22.54327611, -43.26696703]), array([-22.54327611, -43.26701281]), array([-22.54327611, -43.26705859]), array([-22.54329372, -43.26641772]), array([-22.54329372, -43.2664635 ]), array([-22.54329372, -43.26650927]), array([-22.54329372, -43.26655505]), array([-22.54329372, -43.26660083]), array([-22.54329372, -43.2666466 ]), array([-22.54329372, -43.26669238]), array([-22.54329372, -43.26673815]), array([-22.54329372, -43.26678393]), array([-22.54329372, -43.26682971]), array([-22.54329372, -43.26687548]), array([-22.54329372, -43.26692126]), array([-22.54329372, -43.26696703]), array([-22.54329372, -43.26701281]), array([-22.54329372, -43.26705859]), array([-22.54331134, -43.26641772]), array([-22.54331134, -43.2664635 ]), array([-22.54331134, -43.26650927]), array([-22.54331134, -43.26655505]), array([-22.54331134, -43.26660083]), array([-22.54331134, -43.2666466 ]), array([-22.54331134, -43.26669238]), array([-22.54331134, -43.26673815]), array([-22.54331134, -43.26678393]), array([-22.54331134, -43.26682971]), array([-22.54331134, -43.26687548]), array([-22.54331134, -43.26692126]), array([-22.54331134, -43.26696703]), array([-22.54331134, -43.26701281]), array([-22.54331134, -43.26705859]), array([-22.54332895, -43.26641772]), array([-22.54332895, -43.2664635 ]), array([-22.54332895, -43.26650927]), array([-22.54332895, -43.26655505]), array([-22.54332895, -43.26660083]), array([-22.54332895, -43.2666466 ]), array([-22.54332895, -43.26669238]), array([-22.54332895, -43.26673815]), array([-22.54332895, -43.26678393]), array([-22.54332895, -43.26682971]), array([-22.54332895, -43.26687548]), array([-22.54332895, -43.26692126]), array([-22.54332895, -43.26696703]), array([-22.54332895, -43.26701281]), array([-22.54332895, -43.26705859]), array([-22.54334657, -43.26641772]), array([-22.54334657, -43.2664635 ]), array([-22.54334657, -43.26650927]), array([-22.54334657, -43.26655505]), array([-22.54334657, -43.26660083]), array([-22.54334657, -43.2666466 ]), array([-22.54334657, -43.26669238]), array([-22.54334657, -43.26673815]), array([-22.54334657, -43.26678393]), array([-22.54334657, -43.26682971]), array([-22.54334657, -43.26687548]), array([-22.54334657, -43.26692126]), array([-22.54334657, -43.26696703]), array([-22.54334657, -43.26701281]), array([-22.54334657, -43.26705859]), array([-22.54336419, -43.26641772]), array([-22.54336419, -43.2664635 ]), array([-22.54336419, -43.26650927]), array([-22.54336419, -43.26655505]), array([-22.54336419, -43.26660083]), array([-22.54336419, -43.2666466 ]), array([-22.54336419, -43.26669238]), array([-22.54336419, -43.26673815]), array([-22.54336419, -43.26678393]), array([-22.54336419, -43.26682971]), array([-22.54336419, -43.26687548]), array([-22.54336419, -43.26692126]), array([-22.54336419, -43.26696703]), array([-22.54336419, -43.26701281]), array([-22.54336419, -43.26705859]), array([-22.5433818 , -43.26641772]), array([-22.5433818, -43.2664635]), array([-22.5433818 , -43.26650927]), array([-22.5433818 , -43.26655505]), array([-22.5433818 , -43.26660083]), array([-22.5433818, -43.2666466]), array([-22.5433818 , -43.26669238]), array([-22.5433818 , -43.26673815]), array([-22.5433818 , -43.26678393]), array([-22.5433818 , -43.26682971]), array([-22.5433818 , -43.26687548]), array([-22.5433818 , -43.26692126]), array([-22.5433818 , -43.26696703]), array([-22.5433818 , -43.26701281]), array([-22.5433818 , -43.26705859]), array([-22.54339942, -43.26641772]), array([-22.54339942, -43.2664635 ]), array([-22.54339942, -43.26650927]), array([-22.54339942, -43.26655505]), array([-22.54339942, -43.26660083]), array([-22.54339942, -43.2666466 ]), array([-22.54339942, -43.26669238]), array([-22.54339942, -43.26673815]), array([-22.54339942, -43.26678393]), array([-22.54339942, -43.26682971]), array([-22.54339942, -43.26687548]), array([-22.54339942, -43.26692126]), array([-22.54339942, -43.26696703]), array([-22.54339942, -43.26701281]), array([-22.54339942, -43.26705859]), array([-22.54341703, -43.26641772]), array([-22.54341703, -43.2664635 ]), array([-22.54341703, -43.26650927]), array([-22.54341703, -43.26655505]), array([-22.54341703, -43.26660083]), array([-22.54341703, -43.2666466 ]), array([-22.54341703, -43.26669238]), array([-22.54341703, -43.26673815]), array([-22.54341703, -43.26678393]), array([-22.54341703, -43.26682971]), array([-22.54341703, -43.26687548]), array([-22.54341703, -43.26692126]), array([-22.54341703, -43.26696703]), array([-22.54341703, -43.26701281]), array([-22.54341703, -43.26705859]), array([-22.54343465, -43.26641772]), array([-22.54343465, -43.2664635 ]), array([-22.54343465, -43.26650927]), array([-22.54343465, -43.26655505]), array([-22.54343465, -43.26660083]), array([-22.54343465, -43.2666466 ]), array([-22.54343465, -43.26669238]), array([-22.54343465, -43.26673815]), array([-22.54343465, -43.26678393]), array([-22.54343465, -43.26682971]), array([-22.54343465, -43.26687548]), array([-22.54343465, -43.26692126]), array([-22.54343465, -43.26696703]), array([-22.54343465, -43.26701281]), array([-22.54343465, -43.26705859]), array([-22.54345227, -43.26641772]), array([-22.54345227, -43.2664635 ]), array([-22.54345227, -43.26650927]), array([-22.54345227, -43.26655505]), array([-22.54345227, -43.26660083]), array([-22.54345227, -43.2666466 ]), array([-22.54345227, -43.26669238]), array([-22.54345227, -43.26673815]), array([-22.54345227, -43.26678393]), array([-22.54345227, -43.26682971]), array([-22.54345227, -43.26687548]), array([-22.54345227, -43.26692126]), array([-22.54345227, -43.26696703]), array([-22.54345227, -43.26701281]), array([-22.54345227, -43.26705859]), array([-22.54346988, -43.26641772]), array([-22.54346988, -43.2664635 ]), array([-22.54346988, -43.26650927]), array([-22.54346988, -43.26655505]), array([-22.54346988, -43.26660083]), array([-22.54346988, -43.2666466 ]), array([-22.54346988, -43.26669238]), array([-22.54346988, -43.26673815]), array([-22.54346988, -43.26678393]), array([-22.54346988, -43.26682971]), array([-22.54346988, -43.26687548]), array([-22.54346988, -43.26692126]), array([-22.54346988, -43.26696703]), array([-22.54346988, -43.26701281]), array([-22.54346988, -43.26705859]), array([-22.5434875 , -43.26641772]), array([-22.5434875, -43.2664635]), array([-22.5434875 , -43.26650927]), array([-22.5434875 , -43.26655505]), array([-22.5434875 , -43.26660083]), array([-22.5434875, -43.2666466]), array([-22.5434875 , -43.26669238]), array([-22.5434875 , -43.26673815]), array([-22.5434875 , -43.26678393]), array([-22.5434875 , -43.26682971]), array([-22.5434875 , -43.26687548]), array([-22.5434875 , -43.26692126]), array([-22.5434875 , -43.26696703]), array([-22.5434875 , -43.26701281]), array([-22.5434875 , -43.26705859]), array([-22.54350511, -43.26641772]), array([-22.54350511, -43.2664635 ]), array([-22.54350511, -43.26650927]), array([-22.54350511, -43.26655505]), array([-22.54350511, -43.26660083]), array([-22.54350511, -43.2666466 ]), array([-22.54350511, -43.26669238]), array([-22.54350511, -43.26673815]), array([-22.54350511, -43.26678393]), array([-22.54350511, -43.26682971]), array([-22.54350511, -43.26687548]), array([-22.54350511, -43.26692126]), array([-22.54350511, -43.26696703]), array([-22.54350511, -43.26701281]), array([-22.54350511, -43.26705859]), array([-22.54352273, -43.26641772]), array([-22.54352273, -43.2664635 ]), array([-22.54352273, -43.26650927]), array([-22.54352273, -43.26655505]), array([-22.54352273, -43.26660083]), array([-22.54352273, -43.2666466 ]), array([-22.54352273, -43.26669238]), array([-22.54352273, -43.26673815]), array([-22.54352273, -43.26678393]), array([-22.54352273, -43.26682971]), array([-22.54352273, -43.26687548]), array([-22.54352273, -43.26692126]), array([-22.54352273, -43.26696703]), array([-22.54352273, -43.26701281]), array([-22.54352273, -43.26705859]), array([-22.54354035, -43.26641772]), array([-22.54354035, -43.2664635 ]), array([-22.54354035, -43.26650927]), array([-22.54354035, -43.26655505]), array([-22.54354035, -43.26660083]), array([-22.54354035, -43.2666466 ]), array([-22.54354035, -43.26669238]), array([-22.54354035, -43.26673815]), array([-22.54354035, -43.26678393]), array([-22.54354035, -43.26682971]), array([-22.54354035, -43.26687548]), array([-22.54354035, -43.26692126]), array([-22.54354035, -43.26696703]), array([-22.54354035, -43.26701281]), array([-22.54354035, -43.26705859]), array([-22.54355796, -43.26641772]), array([-22.54355796, -43.2664635 ]), array([-22.54355796, -43.26650927]), array([-22.54355796, -43.26655505]), array([-22.54355796, -43.26660083]), array([-22.54355796, -43.2666466 ]), array([-22.54355796, -43.26669238]), array([-22.54355796, -43.26673815]), array([-22.54355796, -43.26678393]), array([-22.54355796, -43.26682971]), array([-22.54355796, -43.26687548]), array([-22.54355796, -43.26692126]), array([-22.54355796, -43.26696703]), array([-22.54355796, -43.26701281]), array([-22.54355796, -43.26705859]), array([-22.54357558, -43.26641772]), array([-22.54357558, -43.2664635 ]), array([-22.54357558, -43.26650927]), array([-22.54357558, -43.26655505]), array([-22.54357558, -43.26660083]), array([-22.54357558, -43.2666466 ]), array([-22.54357558, -43.26669238]), array([-22.54357558, -43.26673815]), array([-22.54357558, -43.26678393]), array([-22.54357558, -43.26682971]), array([-22.54357558, -43.26687548]), array([-22.54357558, -43.26692126]), array([-22.54357558, -43.26696703]), array([-22.54357558, -43.26701281]), array([-22.54357558, -43.26705859]), array([-22.54359319, -43.26641772]), array([-22.54359319, -43.2664635 ]), array([-22.54359319, -43.26650927]), array([-22.54359319, -43.26655505]), array([-22.54359319, -43.26660083]), array([-22.54359319, -43.2666466 ]), array([-22.54359319, -43.26669238]), array([-22.54359319, -43.26673815]), array([-22.54359319, -43.26678393]), array([-22.54359319, -43.26682971]), array([-22.54359319, -43.26687548]), array([-22.54359319, -43.26692126]), array([-22.54359319, -43.26696703]), array([-22.54359319, -43.26701281]), array([-22.54359319, -43.26705859]), array([-22.54361081, -43.26641772]), array([-22.54361081, -43.2664635 ]), array([-22.54361081, -43.26650927]), array([-22.54361081, -43.26655505]), array([-22.54361081, -43.26660083]), array([-22.54361081, -43.2666466 ]), array([-22.54361081, -43.26669238]), array([-22.54361081, -43.26673815]), array([-22.54361081, -43.26678393]), array([-22.54361081, -43.26682971]), array([-22.54361081, -43.26687548]), array([-22.54361081, -43.26692126]), array([-22.54361081, -43.26696703]), array([-22.54361081, -43.26701281]), array([-22.54361081, -43.26705859]), array([-22.54362843, -43.26641772]), array([-22.54362843, -43.2664635 ]), array([-22.54362843, -43.26650927]), array([-22.54362843, -43.26655505]), array([-22.54362843, -43.26660083]), array([-22.54362843, -43.2666466 ]), array([-22.54362843, -43.26669238]), array([-22.54362843, -43.26673815]), array([-22.54362843, -43.26678393]), array([-22.54362843, -43.26682971]), array([-22.54362843, -43.26687548]), array([-22.54362843, -43.26692126]), array([-22.54362843, -43.26696703]), array([-22.54362843, -43.26701281]), array([-22.54362843, -43.26705859]), array([-22.54364604, -43.26641772]), array([-22.54364604, -43.2664635 ]), array([-22.54364604, -43.26650927]), array([-22.54364604, -43.26655505]), array([-22.54364604, -43.26660083]), array([-22.54364604, -43.2666466 ]), array([-22.54364604, -43.26669238]), array([-22.54364604, -43.26673815]), array([-22.54364604, -43.26678393]), array([-22.54364604, -43.26682971]), array([-22.54364604, -43.26687548]), array([-22.54364604, -43.26692126]), array([-22.54364604, -43.26696703]), array([-22.54364604, -43.26701281]), array([-22.54364604, -43.26705859]), array([-22.54366366, -43.26641772]), array([-22.54366366, -43.2664635 ]), array([-22.54366366, -43.26650927]), array([-22.54366366, -43.26655505]), array([-22.54366366, -43.26660083]), array([-22.54366366, -43.2666466 ]), array([-22.54366366, -43.26669238]), array([-22.54366366, -43.26673815]), array([-22.54366366, -43.26678393]), array([-22.54366366, -43.26682971]), array([-22.54366366, -43.26687548]), array([-22.54366366, -43.26692126]), array([-22.54366366, -43.26696703]), array([-22.54366366, -43.26701281]), array([-22.54366366, -43.26705859]), array([-22.54368127, -43.26641772]), array([-22.54368127, -43.2664635 ]), array([-22.54368127, -43.26650927]), array([-22.54368127, -43.26655505]), array([-22.54368127, -43.26660083]), array([-22.54368127, -43.2666466 ]), array([-22.54368127, -43.26669238]), array([-22.54368127, -43.26673815]), array([-22.54368127, -43.26678393]), array([-22.54368127, -43.26682971]), array([-22.54368127, -43.26687548]), array([-22.54368127, -43.26692126]), array([-22.54368127, -43.26696703]), array([-22.54368127, -43.26701281]), array([-22.54368127, -43.26705859]), array([-22.54369889, -43.26641772]), array([-22.54369889, -43.2664635 ]), array([-22.54369889, -43.26650927]), array([-22.54369889, -43.26655505]), array([-22.54369889, -43.26660083]), array([-22.54369889, -43.2666466 ]), array([-22.54369889, -43.26669238]), array([-22.54369889, -43.26673815]), array([-22.54369889, -43.26678393]), array([-22.54369889, -43.26682971]), array([-22.54369889, -43.26687548]), array([-22.54369889, -43.26692126]), array([-22.54369889, -43.26696703]), array([-22.54369889, -43.26701281]), array([-22.54369889, -43.26705859]), array([-22.54371651, -43.26641772]), array([-22.54371651, -43.2664635 ]), array([-22.54371651, -43.26650927]), array([-22.54371651, -43.26655505]), array([-22.54371651, -43.26660083]), array([-22.54371651, -43.2666466 ]), array([-22.54371651, -43.26669238]), array([-22.54371651, -43.26673815]), array([-22.54371651, -43.26678393]), array([-22.54371651, -43.26682971]), array([-22.54371651, -43.26687548]), array([-22.54371651, -43.26692126]), array([-22.54371651, -43.26696703]), array([-22.54371651, -43.26701281]), array([-22.54371651, -43.26705859]), array([-22.54373412, -43.26641772]), array([-22.54373412, -43.2664635 ]), array([-22.54373412, -43.26650927]), array([-22.54373412, -43.26655505]), array([-22.54373412, -43.26660083]), array([-22.54373412, -43.2666466 ]), array([-22.54373412, -43.26669238]), array([-22.54373412, -43.26673815]), array([-22.54373412, -43.26678393]), array([-22.54373412, -43.26682971]), array([-22.54373412, -43.26687548]), array([-22.54373412, -43.26692126]), array([-22.54373412, -43.26696703]), array([-22.54373412, -43.26701281]), array([-22.54373412, -43.26705859]), array([-22.54375174, -43.26641772]), array([-22.54375174, -43.2664635 ]), array([-22.54375174, -43.26650927]), array([-22.54375174, -43.26655505]), array([-22.54375174, -43.26660083]), array([-22.54375174, -43.2666466 ]), array([-22.54375174, -43.26669238]), array([-22.54375174, -43.26673815]), array([-22.54375174, -43.26678393]), array([-22.54375174, -43.26682971]), array([-22.54375174, -43.26687548]), array([-22.54375174, -43.26692126]), array([-22.54375174, -43.26696703]), array([-22.54375174, -43.26701281]), array([-22.54375174, -43.26705859]), array([-22.54376935, -43.26641772]), array([-22.54376935, -43.2664635 ]), array([-22.54376935, -43.26650927]), array([-22.54376935, -43.26655505]), array([-22.54376935, -43.26660083]), array([-22.54376935, -43.2666466 ]), array([-22.54376935, -43.26669238]), array([-22.54376935, -43.26673815]), array([-22.54376935, -43.26678393]), array([-22.54376935, -43.26682971]), array([-22.54376935, -43.26687548]), array([-22.54376935, -43.26692126]), array([-22.54376935, -43.26696703]), array([-22.54376935, -43.26701281]), array([-22.54376935, -43.26705859]), array([-22.54378697, -43.26641772]), array([-22.54378697, -43.2664635 ]), array([-22.54378697, -43.26650927]), array([-22.54378697, -43.26655505]), array([-22.54378697, -43.26660083]), array([-22.54378697, -43.2666466 ]), array([-22.54378697, -43.26669238]), array([-22.54378697, -43.26673815]), array([-22.54378697, -43.26678393]), array([-22.54378697, -43.26682971]), array([-22.54378697, -43.26687548]), array([-22.54378697, -43.26692126]), array([-22.54378697, -43.26696703]), array([-22.54378697, -43.26701281]), array([-22.54378697, -43.26705859])]\n"
          ]
        }
      ],
      "source": [
        "#Convertendo o numpy array em lista e percorrendo (localização dos centroides)\n",
        "listaX = []\n",
        "\n",
        "for i in range(len(x[0])):\n",
        "    for j in range(len(x)):\n",
        "       X = x[j][i]\n",
        "       listaX.append(X)\n",
        "print(listaX)"
      ]
    },
    {
      "cell_type": "code",
      "source": [
        "medida_interpolada = []\n",
        "for j in df['diahora'].unique():\n",
        "  string = \"diahora  == \" + str(j)\n",
        "  y = df[df['diahora'] == j][[\"latitude\", \"longitude\"]].values\n",
        "  #Convertendo o numpy array em lista e percorrendo (localização das estação)\n",
        "  listaY = []\n",
        "  i = 0\n",
        "  while(i < len(y)):\n",
        "    i += 1\n",
        "  listaY.append(y)\n",
        "   \n",
        "  a = calculaDistancias(x, y)\n",
        "\n",
        "  #quais são as 3 menores ditâncias na minha lista de listas (cada estação sendo calculada para cada ponto do centróide)\n",
        "  import numpy as np\n",
        "  menores_dists = []\n",
        "  #np.argsort(a[0])\n",
        "  for i in a:\n",
        "    b = np.sort(i)[0:3]\n",
        "    menores_dists.append(b)\n",
        "\n",
        "\n",
        "  menores_dists = np.array(menores_dists)\n",
        "  #menores_dists.shape\n",
        "\n",
        "  #somatório das menores distâncias obtidas\n",
        "  somatorio_distancias_minimas = np.sum(menores_dists, axis=-1)\n",
        "  somatorio_distancias_minimas\n",
        "\n",
        "  #ajustando o shape para ser possível o cálculo dos pesos\n",
        "  import numpy as np\n",
        "  numero_vizinhos = 3\n",
        "  replicada = np.zeros(shape=(540,3))\n",
        "  for i in range(numero_vizinhos):\n",
        "    replicada[:,i] = somatorio_distancias_minimas\n",
        "\n",
        "  #cálculo dos pesos (somatorio_distancias_minimas com o novo shape (replicada) - menores_dists) / replicada\n",
        "  peso = (replicada - menores_dists) / replicada\n",
        "  peso\n",
        "\n",
        "  #soma das linhas do vetor interno, por exemplo: ([0.68392649, 0.67824181, 0.6378317])\n",
        "  somatorio_pesos = np.sum(peso, axis=-1)\n",
        "  somatorio_pesos\n",
        "\n",
        "  #ajustando o shape do somatorio dos pesos\n",
        "  replicada_pesos = np.zeros(shape=(540,3))\n",
        "  for i in range(3):\n",
        "    replicada_pesos[:,i] = somatorio_pesos\n",
        "\n",
        "  #cálculo dos novos pesos obtidos a partir do peso antigo / pelo seu somátorio com shape ajustado\n",
        "  novo_pesos = peso / replicada_pesos\n",
        "  novo_pesos\n",
        "\n",
        "  #normalização dos pesos (soma de uma linha do vetor interno) por causa da precisão numérica\n",
        "  novo_somatorio_pesos = np.sum(novo_pesos, axis=-1)\n",
        "  novo_somatorio_pesos\n",
        "\n",
        "  #é necessário obter o índice de cada estação que foi considerada mais próxima a cada ponto de centróide, desta forma conseguimos pelo índice saber qual a estação seria\n",
        "  import numpy as np\n",
        "  indice_menores_dists = []\n",
        "\n",
        "  for i in a:\n",
        "    b = np.argsort(i)[0:3]\n",
        "    indice_menores_dists.append(b)\n",
        "\n",
        "  indice_menores_dists = np.array(indice_menores_dists)\n",
        "  #indice_menores_dists.shape\n",
        "\n",
        "  #ajuste do shape\n",
        "  valores_interpolados = np.zeros(shape=(540, 1))\n",
        "\n",
        "  for i in range(540):\n",
        "    #estações mais proximas\n",
        "    a = y[indice_menores_dists[i]]\n",
        "    a = pd.DataFrame(a, columns= ['latitude', 'longitude'])\n",
        "    \n",
        "    #sabendo disso para cada valor único de hr e com o join eu pego as medidas referentes a cada dataHora\n",
        "    teste = df.merge(a, how = 'inner', on = ['latitude', 'longitude'])\n",
        "    medidas = teste[teste['diahora'] == j]['valorMedida'].values\n",
        "    \n",
        "\n",
        "    #calcula o valor interpolado final em matriz\n",
        "    valores_interpolados[i] = np.sum(novo_pesos[i, :] * medidas, axis=-1)\n",
        "\n",
        "\n",
        "  #lista de matrizes (cubo)\n",
        "  medida_interpolada.append(valores_interpolados)\n",
        "\n",
        "  #saida pra cada instante de tempo um valor interpolado (tempo, espaço, espaço, feature)"
      ],
      "metadata": {
        "id": "GT21YniqBo5K",
        "colab": {
          "base_uri": "https://localhost:8080/",
          "height": 399
        },
        "outputId": "81b6006e-6353-440f-be86-2d8b5bc1f715"
      },
      "execution_count": null,
      "outputs": [
        {
          "output_type": "error",
          "ename": "KeyboardInterrupt",
          "evalue": "ignored",
          "traceback": [
            "\u001b[0;31m---------------------------------------------------------------------------\u001b[0m",
            "\u001b[0;31mKeyboardInterrupt\u001b[0m                         Traceback (most recent call last)",
            "\u001b[0;32m<ipython-input-50-8a4171e40686>\u001b[0m in \u001b[0;36m<module>\u001b[0;34m\u001b[0m\n\u001b[1;32m     77\u001b[0m     \u001b[0;31m#sabendo disso para cada valor único de hr e com o join eu pego as medidas referentes a cada dataHora\u001b[0m\u001b[0;34m\u001b[0m\u001b[0;34m\u001b[0m\u001b[0;34m\u001b[0m\u001b[0m\n\u001b[1;32m     78\u001b[0m     \u001b[0mteste\u001b[0m \u001b[0;34m=\u001b[0m \u001b[0mdf\u001b[0m\u001b[0;34m.\u001b[0m\u001b[0mmerge\u001b[0m\u001b[0;34m(\u001b[0m\u001b[0ma\u001b[0m\u001b[0;34m,\u001b[0m \u001b[0mhow\u001b[0m \u001b[0;34m=\u001b[0m \u001b[0;34m'inner'\u001b[0m\u001b[0;34m,\u001b[0m \u001b[0mon\u001b[0m \u001b[0;34m=\u001b[0m \u001b[0;34m[\u001b[0m\u001b[0;34m'latitude'\u001b[0m\u001b[0;34m,\u001b[0m \u001b[0;34m'longitude'\u001b[0m\u001b[0;34m]\u001b[0m\u001b[0;34m)\u001b[0m\u001b[0;34m\u001b[0m\u001b[0;34m\u001b[0m\u001b[0m\n\u001b[0;32m---> 79\u001b[0;31m     \u001b[0mmedidas\u001b[0m \u001b[0;34m=\u001b[0m \u001b[0mteste\u001b[0m\u001b[0;34m[\u001b[0m\u001b[0mteste\u001b[0m\u001b[0;34m[\u001b[0m\u001b[0;34m'diahora'\u001b[0m\u001b[0;34m]\u001b[0m \u001b[0;34m==\u001b[0m \u001b[0mj\u001b[0m\u001b[0;34m]\u001b[0m\u001b[0;34m[\u001b[0m\u001b[0;34m'valorMedida'\u001b[0m\u001b[0;34m]\u001b[0m\u001b[0;34m.\u001b[0m\u001b[0mvalues\u001b[0m\u001b[0;34m\u001b[0m\u001b[0;34m\u001b[0m\u001b[0m\n\u001b[0m\u001b[1;32m     80\u001b[0m \u001b[0;34m\u001b[0m\u001b[0m\n\u001b[1;32m     81\u001b[0m \u001b[0;34m\u001b[0m\u001b[0m\n",
            "\u001b[0;32m/usr/local/lib/python3.7/dist-packages/pandas/core/frame.py\u001b[0m in \u001b[0;36m__getitem__\u001b[0;34m(self, key)\u001b[0m\n\u001b[1;32m   3447\u001b[0m         \u001b[0;31m# Do we have a (boolean) 1d indexer?\u001b[0m\u001b[0;34m\u001b[0m\u001b[0;34m\u001b[0m\u001b[0;34m\u001b[0m\u001b[0m\n\u001b[1;32m   3448\u001b[0m         \u001b[0;32mif\u001b[0m \u001b[0mcom\u001b[0m\u001b[0;34m.\u001b[0m\u001b[0mis_bool_indexer\u001b[0m\u001b[0;34m(\u001b[0m\u001b[0mkey\u001b[0m\u001b[0;34m)\u001b[0m\u001b[0;34m:\u001b[0m\u001b[0;34m\u001b[0m\u001b[0;34m\u001b[0m\u001b[0m\n\u001b[0;32m-> 3449\u001b[0;31m             \u001b[0;32mreturn\u001b[0m \u001b[0mself\u001b[0m\u001b[0;34m.\u001b[0m\u001b[0m_getitem_bool_array\u001b[0m\u001b[0;34m(\u001b[0m\u001b[0mkey\u001b[0m\u001b[0;34m)\u001b[0m\u001b[0;34m\u001b[0m\u001b[0;34m\u001b[0m\u001b[0m\n\u001b[0m\u001b[1;32m   3450\u001b[0m \u001b[0;34m\u001b[0m\u001b[0m\n\u001b[1;32m   3451\u001b[0m         \u001b[0;31m# We are left with two options: a single key, and a collection of keys,\u001b[0m\u001b[0;34m\u001b[0m\u001b[0;34m\u001b[0m\u001b[0;34m\u001b[0m\u001b[0m\n",
            "\u001b[0;32m/usr/local/lib/python3.7/dist-packages/pandas/core/frame.py\u001b[0m in \u001b[0;36m_getitem_bool_array\u001b[0;34m(self, key)\u001b[0m\n\u001b[1;32m   3502\u001b[0m         \u001b[0mkey\u001b[0m \u001b[0;34m=\u001b[0m \u001b[0mcheck_bool_indexer\u001b[0m\u001b[0;34m(\u001b[0m\u001b[0mself\u001b[0m\u001b[0;34m.\u001b[0m\u001b[0mindex\u001b[0m\u001b[0;34m,\u001b[0m \u001b[0mkey\u001b[0m\u001b[0;34m)\u001b[0m\u001b[0;34m\u001b[0m\u001b[0;34m\u001b[0m\u001b[0m\n\u001b[1;32m   3503\u001b[0m         \u001b[0mindexer\u001b[0m \u001b[0;34m=\u001b[0m \u001b[0mkey\u001b[0m\u001b[0;34m.\u001b[0m\u001b[0mnonzero\u001b[0m\u001b[0;34m(\u001b[0m\u001b[0;34m)\u001b[0m\u001b[0;34m[\u001b[0m\u001b[0;36m0\u001b[0m\u001b[0;34m]\u001b[0m\u001b[0;34m\u001b[0m\u001b[0;34m\u001b[0m\u001b[0m\n\u001b[0;32m-> 3504\u001b[0;31m         \u001b[0;32mreturn\u001b[0m \u001b[0mself\u001b[0m\u001b[0;34m.\u001b[0m\u001b[0m_take_with_is_copy\u001b[0m\u001b[0;34m(\u001b[0m\u001b[0mindexer\u001b[0m\u001b[0;34m,\u001b[0m \u001b[0maxis\u001b[0m\u001b[0;34m=\u001b[0m\u001b[0;36m0\u001b[0m\u001b[0;34m)\u001b[0m\u001b[0;34m\u001b[0m\u001b[0;34m\u001b[0m\u001b[0m\n\u001b[0m\u001b[1;32m   3505\u001b[0m \u001b[0;34m\u001b[0m\u001b[0m\n\u001b[1;32m   3506\u001b[0m     \u001b[0;32mdef\u001b[0m \u001b[0m_getitem_multilevel\u001b[0m\u001b[0;34m(\u001b[0m\u001b[0mself\u001b[0m\u001b[0;34m,\u001b[0m \u001b[0mkey\u001b[0m\u001b[0;34m)\u001b[0m\u001b[0;34m:\u001b[0m\u001b[0;34m\u001b[0m\u001b[0;34m\u001b[0m\u001b[0m\n",
            "\u001b[0;32m/usr/local/lib/python3.7/dist-packages/pandas/core/generic.py\u001b[0m in \u001b[0;36m_take_with_is_copy\u001b[0;34m(self, indices, axis)\u001b[0m\n\u001b[1;32m   3626\u001b[0m         \u001b[0mSee\u001b[0m \u001b[0mthe\u001b[0m \u001b[0mdocstring\u001b[0m \u001b[0mof\u001b[0m\u001b[0;31m \u001b[0m\u001b[0;31m`\u001b[0m\u001b[0mtake\u001b[0m\u001b[0;31m`\u001b[0m \u001b[0;32mfor\u001b[0m \u001b[0mfull\u001b[0m \u001b[0mexplanation\u001b[0m \u001b[0mof\u001b[0m \u001b[0mthe\u001b[0m \u001b[0mparameters\u001b[0m\u001b[0;34m.\u001b[0m\u001b[0;34m\u001b[0m\u001b[0;34m\u001b[0m\u001b[0m\n\u001b[1;32m   3627\u001b[0m         \"\"\"\n\u001b[0;32m-> 3628\u001b[0;31m         \u001b[0mresult\u001b[0m \u001b[0;34m=\u001b[0m \u001b[0mself\u001b[0m\u001b[0;34m.\u001b[0m\u001b[0mtake\u001b[0m\u001b[0;34m(\u001b[0m\u001b[0mindices\u001b[0m\u001b[0;34m=\u001b[0m\u001b[0mindices\u001b[0m\u001b[0;34m,\u001b[0m \u001b[0maxis\u001b[0m\u001b[0;34m=\u001b[0m\u001b[0maxis\u001b[0m\u001b[0;34m)\u001b[0m\u001b[0;34m\u001b[0m\u001b[0;34m\u001b[0m\u001b[0m\n\u001b[0m\u001b[1;32m   3629\u001b[0m         \u001b[0;31m# Maybe set copy if we didn't actually change the index.\u001b[0m\u001b[0;34m\u001b[0m\u001b[0;34m\u001b[0m\u001b[0;34m\u001b[0m\u001b[0m\n\u001b[1;32m   3630\u001b[0m         \u001b[0;32mif\u001b[0m \u001b[0;32mnot\u001b[0m \u001b[0mresult\u001b[0m\u001b[0;34m.\u001b[0m\u001b[0m_get_axis\u001b[0m\u001b[0;34m(\u001b[0m\u001b[0maxis\u001b[0m\u001b[0;34m)\u001b[0m\u001b[0;34m.\u001b[0m\u001b[0mequals\u001b[0m\u001b[0;34m(\u001b[0m\u001b[0mself\u001b[0m\u001b[0;34m.\u001b[0m\u001b[0m_get_axis\u001b[0m\u001b[0;34m(\u001b[0m\u001b[0maxis\u001b[0m\u001b[0;34m)\u001b[0m\u001b[0;34m)\u001b[0m\u001b[0;34m:\u001b[0m\u001b[0;34m\u001b[0m\u001b[0;34m\u001b[0m\u001b[0m\n",
            "\u001b[0;32m/usr/local/lib/python3.7/dist-packages/pandas/core/generic.py\u001b[0m in \u001b[0;36mtake\u001b[0;34m(self, indices, axis, is_copy, **kwargs)\u001b[0m\n\u001b[1;32m   3614\u001b[0m \u001b[0;34m\u001b[0m\u001b[0m\n\u001b[1;32m   3615\u001b[0m         new_data = self._mgr.take(\n\u001b[0;32m-> 3616\u001b[0;31m             \u001b[0mindices\u001b[0m\u001b[0;34m,\u001b[0m \u001b[0maxis\u001b[0m\u001b[0;34m=\u001b[0m\u001b[0mself\u001b[0m\u001b[0;34m.\u001b[0m\u001b[0m_get_block_manager_axis\u001b[0m\u001b[0;34m(\u001b[0m\u001b[0maxis\u001b[0m\u001b[0;34m)\u001b[0m\u001b[0;34m,\u001b[0m \u001b[0mverify\u001b[0m\u001b[0;34m=\u001b[0m\u001b[0;32mTrue\u001b[0m\u001b[0;34m\u001b[0m\u001b[0;34m\u001b[0m\u001b[0m\n\u001b[0m\u001b[1;32m   3617\u001b[0m         )\n\u001b[1;32m   3618\u001b[0m         \u001b[0;32mreturn\u001b[0m \u001b[0mself\u001b[0m\u001b[0;34m.\u001b[0m\u001b[0m_constructor\u001b[0m\u001b[0;34m(\u001b[0m\u001b[0mnew_data\u001b[0m\u001b[0;34m)\u001b[0m\u001b[0;34m.\u001b[0m\u001b[0m__finalize__\u001b[0m\u001b[0;34m(\u001b[0m\u001b[0mself\u001b[0m\u001b[0;34m,\u001b[0m \u001b[0mmethod\u001b[0m\u001b[0;34m=\u001b[0m\u001b[0;34m\"take\"\u001b[0m\u001b[0;34m)\u001b[0m\u001b[0;34m\u001b[0m\u001b[0;34m\u001b[0m\u001b[0m\n",
            "\u001b[0;32m/usr/local/lib/python3.7/dist-packages/pandas/core/internals/managers.py\u001b[0m in \u001b[0;36mtake\u001b[0;34m(self, indexer, axis, verify)\u001b[0m\n\u001b[1;32m    868\u001b[0m             \u001b[0maxis\u001b[0m\u001b[0;34m=\u001b[0m\u001b[0maxis\u001b[0m\u001b[0;34m,\u001b[0m\u001b[0;34m\u001b[0m\u001b[0;34m\u001b[0m\u001b[0m\n\u001b[1;32m    869\u001b[0m             \u001b[0mallow_dups\u001b[0m\u001b[0;34m=\u001b[0m\u001b[0;32mTrue\u001b[0m\u001b[0;34m,\u001b[0m\u001b[0;34m\u001b[0m\u001b[0;34m\u001b[0m\u001b[0m\n\u001b[0;32m--> 870\u001b[0;31m             \u001b[0mconsolidate\u001b[0m\u001b[0;34m=\u001b[0m\u001b[0;32mFalse\u001b[0m\u001b[0;34m,\u001b[0m\u001b[0;34m\u001b[0m\u001b[0;34m\u001b[0m\u001b[0m\n\u001b[0m\u001b[1;32m    871\u001b[0m         )\n\u001b[1;32m    872\u001b[0m \u001b[0;34m\u001b[0m\u001b[0m\n",
            "\u001b[0;32m/usr/local/lib/python3.7/dist-packages/pandas/core/internals/managers.py\u001b[0m in \u001b[0;36mreindex_indexer\u001b[0;34m(self, new_axis, indexer, axis, fill_value, allow_dups, copy, consolidate, only_slice)\u001b[0m\n\u001b[1;32m    686\u001b[0m                     ),\n\u001b[1;32m    687\u001b[0m                 )\n\u001b[0;32m--> 688\u001b[0;31m                 \u001b[0;32mfor\u001b[0m \u001b[0mblk\u001b[0m \u001b[0;32min\u001b[0m \u001b[0mself\u001b[0m\u001b[0;34m.\u001b[0m\u001b[0mblocks\u001b[0m\u001b[0;34m\u001b[0m\u001b[0;34m\u001b[0m\u001b[0m\n\u001b[0m\u001b[1;32m    689\u001b[0m             ]\n\u001b[1;32m    690\u001b[0m \u001b[0;34m\u001b[0m\u001b[0m\n",
            "\u001b[0;32m/usr/local/lib/python3.7/dist-packages/pandas/core/internals/managers.py\u001b[0m in \u001b[0;36m<listcomp>\u001b[0;34m(.0)\u001b[0m\n\u001b[1;32m    686\u001b[0m                     ),\n\u001b[1;32m    687\u001b[0m                 )\n\u001b[0;32m--> 688\u001b[0;31m                 \u001b[0;32mfor\u001b[0m \u001b[0mblk\u001b[0m \u001b[0;32min\u001b[0m \u001b[0mself\u001b[0m\u001b[0;34m.\u001b[0m\u001b[0mblocks\u001b[0m\u001b[0;34m\u001b[0m\u001b[0;34m\u001b[0m\u001b[0m\n\u001b[0m\u001b[1;32m    689\u001b[0m             ]\n\u001b[1;32m    690\u001b[0m \u001b[0;34m\u001b[0m\u001b[0m\n",
            "\u001b[0;32m/usr/local/lib/python3.7/dist-packages/pandas/core/internals/blocks.py\u001b[0m in \u001b[0;36mtake_nd\u001b[0;34m(self, indexer, axis, new_mgr_locs, fill_value)\u001b[0m\n\u001b[1;32m   1143\u001b[0m \u001b[0;34m\u001b[0m\u001b[0m\n\u001b[1;32m   1144\u001b[0m         new_values = algos.take_nd(\n\u001b[0;32m-> 1145\u001b[0;31m             \u001b[0mvalues\u001b[0m\u001b[0;34m,\u001b[0m \u001b[0mindexer\u001b[0m\u001b[0;34m,\u001b[0m \u001b[0maxis\u001b[0m\u001b[0;34m=\u001b[0m\u001b[0maxis\u001b[0m\u001b[0;34m,\u001b[0m \u001b[0mallow_fill\u001b[0m\u001b[0;34m=\u001b[0m\u001b[0mallow_fill\u001b[0m\u001b[0;34m,\u001b[0m \u001b[0mfill_value\u001b[0m\u001b[0;34m=\u001b[0m\u001b[0mfill_value\u001b[0m\u001b[0;34m\u001b[0m\u001b[0;34m\u001b[0m\u001b[0m\n\u001b[0m\u001b[1;32m   1146\u001b[0m         )\n\u001b[1;32m   1147\u001b[0m \u001b[0;34m\u001b[0m\u001b[0m\n",
            "\u001b[0;32m/usr/local/lib/python3.7/dist-packages/pandas/core/array_algos/take.py\u001b[0m in \u001b[0;36mtake_nd\u001b[0;34m(arr, indexer, axis, fill_value, allow_fill)\u001b[0m\n\u001b[1;32m    106\u001b[0m \u001b[0;34m\u001b[0m\u001b[0m\n\u001b[1;32m    107\u001b[0m     \u001b[0marr\u001b[0m \u001b[0;34m=\u001b[0m \u001b[0mnp\u001b[0m\u001b[0;34m.\u001b[0m\u001b[0masarray\u001b[0m\u001b[0;34m(\u001b[0m\u001b[0marr\u001b[0m\u001b[0;34m)\u001b[0m\u001b[0;34m\u001b[0m\u001b[0;34m\u001b[0m\u001b[0m\n\u001b[0;32m--> 108\u001b[0;31m     \u001b[0;32mreturn\u001b[0m \u001b[0m_take_nd_ndarray\u001b[0m\u001b[0;34m(\u001b[0m\u001b[0marr\u001b[0m\u001b[0;34m,\u001b[0m \u001b[0mindexer\u001b[0m\u001b[0;34m,\u001b[0m \u001b[0maxis\u001b[0m\u001b[0;34m,\u001b[0m \u001b[0mfill_value\u001b[0m\u001b[0;34m,\u001b[0m \u001b[0mallow_fill\u001b[0m\u001b[0;34m)\u001b[0m\u001b[0;34m\u001b[0m\u001b[0;34m\u001b[0m\u001b[0m\n\u001b[0m\u001b[1;32m    109\u001b[0m \u001b[0;34m\u001b[0m\u001b[0m\n\u001b[1;32m    110\u001b[0m \u001b[0;34m\u001b[0m\u001b[0m\n",
            "\u001b[0;32m/usr/local/lib/python3.7/dist-packages/pandas/core/array_algos/take.py\u001b[0m in \u001b[0;36m_take_nd_ndarray\u001b[0;34m(arr, indexer, axis, fill_value, allow_fill)\u001b[0m\n\u001b[1;32m    152\u001b[0m         \u001b[0marr\u001b[0m\u001b[0;34m.\u001b[0m\u001b[0mndim\u001b[0m\u001b[0;34m,\u001b[0m \u001b[0marr\u001b[0m\u001b[0;34m.\u001b[0m\u001b[0mdtype\u001b[0m\u001b[0;34m,\u001b[0m \u001b[0mout\u001b[0m\u001b[0;34m.\u001b[0m\u001b[0mdtype\u001b[0m\u001b[0;34m,\u001b[0m \u001b[0maxis\u001b[0m\u001b[0;34m=\u001b[0m\u001b[0maxis\u001b[0m\u001b[0;34m,\u001b[0m \u001b[0mmask_info\u001b[0m\u001b[0;34m=\u001b[0m\u001b[0mmask_info\u001b[0m\u001b[0;34m\u001b[0m\u001b[0;34m\u001b[0m\u001b[0m\n\u001b[1;32m    153\u001b[0m     )\n\u001b[0;32m--> 154\u001b[0;31m     \u001b[0mfunc\u001b[0m\u001b[0;34m(\u001b[0m\u001b[0marr\u001b[0m\u001b[0;34m,\u001b[0m \u001b[0mindexer\u001b[0m\u001b[0;34m,\u001b[0m \u001b[0mout\u001b[0m\u001b[0;34m,\u001b[0m \u001b[0mfill_value\u001b[0m\u001b[0;34m)\u001b[0m\u001b[0;34m\u001b[0m\u001b[0;34m\u001b[0m\u001b[0m\n\u001b[0m\u001b[1;32m    155\u001b[0m \u001b[0;34m\u001b[0m\u001b[0m\n\u001b[1;32m    156\u001b[0m     \u001b[0;32mif\u001b[0m \u001b[0mflip_order\u001b[0m\u001b[0;34m:\u001b[0m\u001b[0;34m\u001b[0m\u001b[0;34m\u001b[0m\u001b[0m\n",
            "\u001b[0;31mKeyboardInterrupt\u001b[0m: "
          ]
        }
      ]
    },
    {
      "cell_type": "code",
      "source": [
        "#ajuste do shape das medidas interpoladas\n",
        "medida_interpolada[0].shape = (1, 36, 15, 1)\n",
        "medida_interpolada[0]\n",
        "\n",
        "for i in range(len(medida_interpolada)):\n",
        "  medida_interpolada[i].shape = (1, 36, 15, 1)"
      ],
      "metadata": {
        "id": "GKjwvFnYKIWb"
      },
      "execution_count": null,
      "outputs": []
    },
    {
      "cell_type": "code",
      "source": [
        "np.concatenate(medida_interpolada, axis=-1).shape\n",
        "valorFinal = np.concatenate(medida_interpolada, axis=0)\n",
        "np.save('/content/drive/MyDrive/Colab Notebooks/15-02-2022/dadosInterpolados.npy', valorFinal)"
      ],
      "metadata": {
        "id": "PCS6GVFYKIWj"
      },
      "execution_count": null,
      "outputs": []
    },
    {
      "cell_type": "markdown",
      "source": [
        "As limitações seriam:\n",
        "* Só é feita a procura pelas 3 estações mais próximas uma vez, e pode ser que em algum instante de tempo ela não funcionou, e se isso acontecer não tem que obter o dado\n",
        "** A forma de resolver isso seria ver quais as estações para cada instante de tempo possuem medidas e só calcular as distâncias dos centroides a essas que possuem medidas\n",
        "\n",
        "* Outra limitação seria que para cada instante de tempo eu tenho pelo menos k estações mais próximas\n",
        "** para se resolver isso poderia ser feita uma checagem pegar o valor mínimo entre k e o tamanho de um vetor que armazenaria todas as estações que estão realmente funcionado e assim calcular a medida interpolada para aquele instante de tempo"
      ],
      "metadata": {
        "id": "iyQzGutwEwu3"
      }
    }
  ],
  "metadata": {
    "colab": {
      "collapsed_sections": [],
      "provenance": []
    },
    "kernelspec": {
      "display_name": "Python 3",
      "name": "python3"
    },
    "language_info": {
      "name": "python"
    }
  },
  "nbformat": 4,
  "nbformat_minor": 0
}